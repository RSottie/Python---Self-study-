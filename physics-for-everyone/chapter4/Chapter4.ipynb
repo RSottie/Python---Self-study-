{
 "cells": [
  {
   "cell_type": "markdown",
   "id": "1cbea664",
   "metadata": {},
   "source": [
    "#  Functions\n",
    "\n",
    "In the context of programming, a function is a named sequence of statements that\n",
    "performs a computation. When you define a function, you specify the name and\n",
    "the sequence of statements."
   ]
  },
  {
   "cell_type": "code",
   "execution_count": 1,
   "id": "20300af7",
   "metadata": {},
   "outputs": [
    {
     "data": {
      "text/plain": [
       "int"
      ]
     },
     "execution_count": 1,
     "metadata": {},
     "output_type": "execute_result"
    }
   ],
   "source": [
    "#  Example\n",
    "\n",
    "type(32)\n",
    "\n",
    "# The name of the function is type\n",
    "# The expression in parentheses is called the argument of the function\n",
    "# The result is called the return value"
   ]
  },
  {
   "cell_type": "markdown",
   "id": "9051696f",
   "metadata": {},
   "source": [
    "#  Built-in functions\n",
    "Python provides a number of important built-in functions that we can use without\n",
    "needing to provide the function definition"
   ]
  },
  {
   "cell_type": "code",
   "execution_count": 6,
   "id": "ea6a8b74",
   "metadata": {},
   "outputs": [
    {
     "data": {
      "text/plain": [
       "' '"
      ]
     },
     "execution_count": 6,
     "metadata": {},
     "output_type": "execute_result"
    }
   ],
   "source": [
    "#  Example\n",
    "# The max and min functions give us the largest and smallest values in a list, respectively:\n",
    "\n",
    "message  = \"Hello world\"\n",
    "max (message)\n",
    "\n",
    "# The max function tells us the “largest character” in the string (which turns out to\n",
    "# be the letter “w”)"
   ]
  },
  {
   "cell_type": "code",
   "execution_count": 7,
   "id": "bbb5ca70",
   "metadata": {},
   "outputs": [
    {
     "data": {
      "text/plain": [
       "' '"
      ]
     },
     "execution_count": 7,
     "metadata": {},
     "output_type": "execute_result"
    }
   ],
   "source": [
    "#  Example\n",
    "# The max and min functions give us the largest and smallest values in a list, respectively:\n",
    "\n",
    "message  = \"Hello world\"\n",
    "min(message)\n",
    "\n",
    "# the min function shows us the smallest character (which turns out to be a space)."
   ]
  },
  {
   "cell_type": "code",
   "execution_count": 8,
   "id": "7616bca9",
   "metadata": {},
   "outputs": [
    {
     "data": {
      "text/plain": [
       "11"
      ]
     },
     "execution_count": 8,
     "metadata": {},
     "output_type": "execute_result"
    }
   ],
   "source": [
    "len(message)"
   ]
  },
  {
   "cell_type": "code",
   "execution_count": 13,
   "id": "5ababfd0",
   "metadata": {},
   "outputs": [
    {
     "data": {
      "text/plain": [
       "'@'"
      ]
     },
     "execution_count": 13,
     "metadata": {},
     "output_type": "execute_result"
    }
   ],
   "source": [
    "char = \"128&3=@!$%\"\n",
    "max(char)"
   ]
  },
  {
   "cell_type": "code",
   "execution_count": 14,
   "id": "2d8d5d92",
   "metadata": {},
   "outputs": [
    {
     "data": {
      "text/plain": [
       "'!'"
      ]
     },
     "execution_count": 14,
     "metadata": {},
     "output_type": "execute_result"
    }
   ],
   "source": [
    "char = \"128&3=@!$%\"\n",
    "min(char)"
   ]
  },
  {
   "cell_type": "code",
   "execution_count": null,
   "id": "f8b8369f",
   "metadata": {},
   "outputs": [],
   "source": []
  },
  {
   "cell_type": "markdown",
   "id": "42301c94",
   "metadata": {},
   "source": [
    "#  Type conversion functions"
   ]
  },
  {
   "cell_type": "code",
   "execution_count": 16,
   "id": "76c0e002",
   "metadata": {},
   "outputs": [
    {
     "data": {
      "text/plain": [
       "32"
      ]
     },
     "execution_count": 16,
     "metadata": {},
     "output_type": "execute_result"
    }
   ],
   "source": [
    "str = \"32\"\n",
    "int(str)"
   ]
  },
  {
   "cell_type": "code",
   "execution_count": 17,
   "id": "54d676ab",
   "metadata": {},
   "outputs": [
    {
     "data": {
      "text/plain": [
       "32.0"
      ]
     },
     "execution_count": 17,
     "metadata": {},
     "output_type": "execute_result"
    }
   ],
   "source": [
    "float(str)"
   ]
  },
  {
   "cell_type": "code",
   "execution_count": null,
   "id": "b309c3ca",
   "metadata": {},
   "outputs": [],
   "source": []
  },
  {
   "cell_type": "markdown",
   "id": "ab305f9d",
   "metadata": {},
   "source": [
    "# Math functions\n",
    "Python has a math module that provides most of the familiar mathematical functions."
   ]
  },
  {
   "cell_type": "code",
   "execution_count": 23,
   "id": "73462887",
   "metadata": {},
   "outputs": [
    {
     "data": {
      "text/plain": [
       "2.0402788931935794"
      ]
     },
     "execution_count": 23,
     "metadata": {},
     "output_type": "execute_result"
    }
   ],
   "source": [
    "import math\n",
    "math.sqrt(2)/math.log(2)"
   ]
  },
  {
   "cell_type": "markdown",
   "id": "7cd4f31f",
   "metadata": {},
   "source": [
    "# Random numbers\n",
    "The random module provides functions that generate pseudorandom numbers\n",
    "(which I will simply call “random” from here on). The random module provides functions that generate pseudorandom numbers(which I will simply call “random” from here on)."
   ]
  },
  {
   "cell_type": "code",
   "execution_count": 40,
   "id": "7748e347",
   "metadata": {},
   "outputs": [
    {
     "data": {
      "text/plain": [
       "0.5331344573516418"
      ]
     },
     "execution_count": 40,
     "metadata": {},
     "output_type": "execute_result"
    }
   ],
   "source": [
    "import random\n",
    "random.random()"
   ]
  },
  {
   "cell_type": "code",
   "execution_count": 44,
   "id": "9ae1affd",
   "metadata": {},
   "outputs": [
    {
     "name": "stdout",
     "output_type": "stream",
     "text": [
      "0.09727662016204774\n",
      "0.5472064053714487\n",
      "0.45469358857788655\n",
      "0.9015231573330337\n",
      "0.6161717719243387\n",
      "0.11101925023920578\n",
      "0.41893843789051743\n",
      "0.9044569256598142\n",
      "0.6620571796280704\n",
      "0.6900116354726968\n"
     ]
    }
   ],
   "source": [
    "import random as rnd\n",
    "\n",
    "for i in range(10):\n",
    "    y = rnd.random()\n",
    "    print(y)"
   ]
  },
  {
   "cell_type": "code",
   "execution_count": null,
   "id": "263a9d3f",
   "metadata": {},
   "outputs": [],
   "source": []
  },
  {
   "cell_type": "markdown",
   "id": "b1a1ca99",
   "metadata": {},
   "source": [
    "#  randint\n",
    "The function randint takes the parameters low and high, and returns an integer\n",
    "between low and high (including both)."
   ]
  },
  {
   "cell_type": "code",
   "execution_count": 47,
   "id": "a9768228",
   "metadata": {},
   "outputs": [
    {
     "data": {
      "text/plain": [
       "7"
      ]
     },
     "execution_count": 47,
     "metadata": {},
     "output_type": "execute_result"
    }
   ],
   "source": [
    "import random as rnd\n",
    "\n",
    "rnd.randint(5,10)"
   ]
  },
  {
   "cell_type": "code",
   "execution_count": 48,
   "id": "d8ca5e3a",
   "metadata": {},
   "outputs": [
    {
     "data": {
      "text/plain": [
       "9"
      ]
     },
     "execution_count": 48,
     "metadata": {},
     "output_type": "execute_result"
    }
   ],
   "source": [
    "import random as rnd\n",
    "\n",
    "rnd.randint(5,10)"
   ]
  },
  {
   "cell_type": "code",
   "execution_count": null,
   "id": "bcf06fc6",
   "metadata": {},
   "outputs": [],
   "source": []
  },
  {
   "cell_type": "markdown",
   "id": "9aa1f81b",
   "metadata": {},
   "source": [
    "# choose\n",
    "To choose an element from a sequence at random, you can use choice:"
   ]
  },
  {
   "cell_type": "code",
   "execution_count": 50,
   "id": "0ab923bb",
   "metadata": {},
   "outputs": [
    {
     "data": {
      "text/plain": [
       "4"
      ]
     },
     "execution_count": 50,
     "metadata": {},
     "output_type": "execute_result"
    }
   ],
   "source": [
    "temp = [1,2,3,4,5]\n",
    "\n",
    "random.choice(temp)"
   ]
  },
  {
   "cell_type": "code",
   "execution_count": 106,
   "id": "2d40f227",
   "metadata": {},
   "outputs": [
    {
     "data": {
      "text/plain": [
       "2.333333333333333"
      ]
     },
     "execution_count": 106,
     "metadata": {},
     "output_type": "execute_result"
    }
   ],
   "source": [
    "import numpy as np\n",
    "\n",
    "temp1 = np.linspace(1,5,10)\n",
    "\n",
    "random.choice(temp1)"
   ]
  },
  {
   "cell_type": "code",
   "execution_count": null,
   "id": "dd66aea6",
   "metadata": {},
   "outputs": [],
   "source": []
  },
  {
   "cell_type": "markdown",
   "id": "e0d59839",
   "metadata": {},
   "source": [
    "# Adding new functions\n",
    "\n",
    "A function definition specifies the name of a new function and the sequence of statements that execute when the function is called.\n"
   ]
  },
  {
   "cell_type": "code",
   "execution_count": 112,
   "id": "848c5151",
   "metadata": {},
   "outputs": [
    {
     "name": "stdout",
     "output_type": "stream",
     "text": [
      "<function print_lyrics at 0x7fd5043fc160>\n",
      "<class 'function'>\n",
      "I'm a lumberjack, and I'm okay.\n",
      "I sleep all night and I work all day.\n"
     ]
    }
   ],
   "source": [
    "# Here is an example:\n",
    "def print_lyrics():\n",
    "    print(\"I'm a lumberjack, and I'm okay.\")\n",
    "    print('I sleep all night and I work all day.')\n",
    "    \n",
    "# def is a keyword that indicates that this is a function definition.\n",
    "# The first line of the function definition is called the header; the rest is called\n",
    "# the body. The header has to end with a colon and the body has to be indented.\n",
    "\n",
    "# Defining a function creates a variable with the same name.\n",
    "print(print_lyrics)\n",
    "\n",
    "# The value of print_lyrics is a function object, which has type “function”\n",
    "\n",
    "print(type(print_lyrics))\n",
    "\n",
    "# The syntax for calling the new function is the same as for built-in functions:\n",
    "\n",
    "print_lyrics()"
   ]
  },
  {
   "cell_type": "code",
   "execution_count": null,
   "id": "2bf25b90",
   "metadata": {},
   "outputs": [],
   "source": []
  },
  {
   "cell_type": "code",
   "execution_count": 113,
   "id": "cdc7ab46",
   "metadata": {},
   "outputs": [
    {
     "name": "stdout",
     "output_type": "stream",
     "text": [
      "Tomorrow is Tuesday\n",
      "There will be free lunch\n",
      "It shall rain cat and dog\n"
     ]
    }
   ],
   "source": [
    "def mon_fri():\n",
    "    print(\"Tomorrow is Tuesday\")\n",
    "    print(\"There will be free lunch\")\n",
    "    print(\"It shall rain cat and dog\")\n",
    "    \n",
    "mon_fri()"
   ]
  },
  {
   "cell_type": "code",
   "execution_count": null,
   "id": "41ac08c7",
   "metadata": {},
   "outputs": [],
   "source": []
  },
  {
   "cell_type": "code",
   "execution_count": 115,
   "id": "d8258ec5",
   "metadata": {},
   "outputs": [
    {
     "name": "stdout",
     "output_type": "stream",
     "text": [
      "Tomorrow is Tuesday\n",
      "There will be free lunch\n",
      "It shall rain cat and dog\n"
     ]
    }
   ],
   "source": [
    "def rich_kid():\n",
    "    mon_fri()\n",
    "    \n",
    "rich_kid()"
   ]
  },
  {
   "cell_type": "code",
   "execution_count": null,
   "id": "e42730ae",
   "metadata": {},
   "outputs": [],
   "source": []
  },
  {
   "cell_type": "markdown",
   "id": "5a1170f1",
   "metadata": {},
   "source": [
    "#  Definitions and uses\n",
    "\n",
    "As you might expect, you have to create a function before you can execute it. In other words, the function definition has to be executed before the first time it is called.\n"
   ]
  },
  {
   "cell_type": "markdown",
   "id": "b30eadf6",
   "metadata": {},
   "source": [
    "# Exercise 2: \n",
    "\n",
    "Move the last line of this program to the top, so the function call appears before the definitions. \n",
    "Run the program and see what error message you get."
   ]
  },
  {
   "cell_type": "code",
   "execution_count": 123,
   "id": "765da7a6",
   "metadata": {},
   "outputs": [
    {
     "ename": "NameError",
     "evalue": "name 'repeat_lyrics1' is not defined",
     "output_type": "error",
     "traceback": [
      "\u001b[0;31m---------------------------------------------------------------------------\u001b[0m",
      "\u001b[0;31mNameError\u001b[0m                                 Traceback (most recent call last)",
      "Cell \u001b[0;32mIn[123], line 1\u001b[0m\n\u001b[0;32m----> 1\u001b[0m \u001b[43mrepeat_lyrics1\u001b[49m()\n\u001b[1;32m      3\u001b[0m \u001b[38;5;28;01mdef\u001b[39;00m \u001b[38;5;21mprint_lyrics1\u001b[39m():\n\u001b[1;32m      4\u001b[0m     \u001b[38;5;28mprint\u001b[39m(\u001b[38;5;124m\"\u001b[39m\u001b[38;5;124mI\u001b[39m\u001b[38;5;124m'\u001b[39m\u001b[38;5;124mm a lumberjack, and I\u001b[39m\u001b[38;5;124m'\u001b[39m\u001b[38;5;124mm okay.\u001b[39m\u001b[38;5;124m\"\u001b[39m)\n",
      "\u001b[0;31mNameError\u001b[0m: name 'repeat_lyrics1' is not defined"
     ]
    }
   ],
   "source": [
    "repeat_lyrics1()\n",
    "\n",
    "def print_lyrics1():\n",
    "    print(\"I'm a lumberjack, and I'm okay.\")\n",
    "    print('I sleep all night and I work all day.')\n",
    "    \n",
    "def repeat_lyrics1():\n",
    "    print_lyrics()\n",
    "    print_lyrics()\n",
    "    \n",
    "\n"
   ]
  },
  {
   "cell_type": "code",
   "execution_count": null,
   "id": "a1b5093c",
   "metadata": {},
   "outputs": [],
   "source": []
  },
  {
   "cell_type": "code",
   "execution_count": 126,
   "id": "dfd48efa",
   "metadata": {},
   "outputs": [
    {
     "name": "stdout",
     "output_type": "stream",
     "text": [
      "I'm a lumberjack, and I'm okay.\n",
      "I sleep all night and I work all day.\n",
      "I'm a lumberjack, and I'm okay.\n",
      "I sleep all night and I work all day.\n"
     ]
    }
   ],
   "source": [
    "    \n",
    "def repeat_lyrics1():\n",
    "    print_lyrics()\n",
    "    print_lyrics()\n",
    "\n",
    "def print_lyrics1():\n",
    "    print(\"I'm a lumberjack, and I'm okay.\")\n",
    "    print('I sleep all night and I work all day.')    \n",
    "    \n",
    "repeat_lyrics1()\n"
   ]
  },
  {
   "cell_type": "code",
   "execution_count": null,
   "id": "8d122828",
   "metadata": {},
   "outputs": [],
   "source": []
  },
  {
   "cell_type": "markdown",
   "id": "7d8c5ac9",
   "metadata": {},
   "source": [
    "# Flow of execution\n",
    "Statements are executed one at a time, in order from top to bottom."
   ]
  },
  {
   "cell_type": "code",
   "execution_count": null,
   "id": "a77577b5",
   "metadata": {},
   "outputs": [],
   "source": []
  },
  {
   "cell_type": "markdown",
   "id": "ce96ea63",
   "metadata": {},
   "source": [
    "# Parameters and arguments\n",
    "Inside the function, the arguments are assigned to variables called parameters"
   ]
  },
  {
   "cell_type": "code",
   "execution_count": 128,
   "id": "6e3f8797",
   "metadata": {},
   "outputs": [
    {
     "name": "stdout",
     "output_type": "stream",
     "text": [
      "kofi\n",
      "kofi\n"
     ]
    }
   ],
   "source": [
    "# This function works with any value that can be printed.\n",
    "\n",
    "def print_twice(bruce):\n",
    "    \n",
    "    print(bruce)\n",
    "    print(bruce)\n",
    "    \n",
    "print_twice(\"kofi\")"
   ]
  },
  {
   "cell_type": "code",
   "execution_count": 129,
   "id": "c6707fc1",
   "metadata": {},
   "outputs": [
    {
     "name": "stdout",
     "output_type": "stream",
     "text": [
      "17\n",
      "17\n"
     ]
    }
   ],
   "source": [
    "print_twice(17)"
   ]
  },
  {
   "cell_type": "code",
   "execution_count": 130,
   "id": "84936404",
   "metadata": {},
   "outputs": [
    {
     "name": "stdout",
     "output_type": "stream",
     "text": [
      "3.141592653589793\n",
      "3.141592653589793\n"
     ]
    }
   ],
   "source": [
    "import math\n",
    "\n",
    "print_twice(math.pi)"
   ]
  },
  {
   "cell_type": "code",
   "execution_count": 132,
   "id": "9b93258a",
   "metadata": {},
   "outputs": [
    {
     "name": "stdout",
     "output_type": "stream",
     "text": [
      "spam spam spam spam \n",
      "spam spam spam spam \n"
     ]
    }
   ],
   "source": [
    "print_twice(\"spam \"*4)"
   ]
  },
  {
   "cell_type": "code",
   "execution_count": 133,
   "id": "6e77fe98",
   "metadata": {},
   "outputs": [
    {
     "name": "stdout",
     "output_type": "stream",
     "text": [
      "-1.0\n",
      "-1.0\n"
     ]
    }
   ],
   "source": [
    "print_twice(math.cos(math.pi))\n"
   ]
  },
  {
   "cell_type": "markdown",
   "id": "850c67a1",
   "metadata": {},
   "source": [
    "The argument is evaluated before the function is called, so in the examples the\n",
    "expressions 'Spam '*4 and math.cos(math.pi) are only evaluated once.\n"
   ]
  },
  {
   "cell_type": "markdown",
   "id": "298181cd",
   "metadata": {},
   "source": [
    "You can also use a variable as an argument:\n"
   ]
  },
  {
   "cell_type": "code",
   "execution_count": 135,
   "id": "d80c2df7",
   "metadata": {},
   "outputs": [
    {
     "name": "stdout",
     "output_type": "stream",
     "text": [
      "Eiric is going to school\n",
      "Eiric is going to school\n"
     ]
    }
   ],
   "source": [
    "kofi = \"Eiric is going to school\"\n",
    "print_twice(kofi)"
   ]
  },
  {
   "cell_type": "markdown",
   "id": "5a4bb2f9",
   "metadata": {},
   "source": [
    "The name of the variable we pass as an argument (michael) has nothing to do\n",
    "with the name of the parameter (bruce)."
   ]
  },
  {
   "cell_type": "code",
   "execution_count": null,
   "id": "6ddd3809",
   "metadata": {},
   "outputs": [],
   "source": []
  },
  {
   "cell_type": "markdown",
   "id": "7920bfc3",
   "metadata": {},
   "source": [
    "#  Fruitful functions and void functions\n",
    "\n",
    "Some of the functions we are using, such as the math functions, yield results; I call them fruitful functions.\n",
    "Other functions, like print_twice, perform an action but don’t return a value. They are called void functions.\n",
    "\n",
    "When you call a fruitful function, you almost always want to do something with the result; "
   ]
  },
  {
   "cell_type": "code",
   "execution_count": 144,
   "id": "110a7e10",
   "metadata": {},
   "outputs": [
    {
     "data": {
      "text/plain": [
       "2.23606797749979"
      ]
     },
     "execution_count": 144,
     "metadata": {},
     "output_type": "execute_result"
    }
   ],
   "source": [
    "# Example\n",
    "\n",
    "math.cos(np.pi)\n",
    "math.sqrt(5)\n",
    "\n",
    "# in a script, if you call a fruitful function and do not store the result of the\n",
    "# function in a variable, the return value vanishes into the mist!"
   ]
  },
  {
   "cell_type": "code",
   "execution_count": null,
   "id": "aa26a399",
   "metadata": {},
   "outputs": [],
   "source": []
  },
  {
   "cell_type": "markdown",
   "id": "865e04b2",
   "metadata": {},
   "source": [
    "Void functions might display something on the screen or have some other effect, but they don’t have a return value. If you try to assign the result to a variable, you get a special value called None.\n"
   ]
  },
  {
   "cell_type": "code",
   "execution_count": 145,
   "id": "90b5b374",
   "metadata": {},
   "outputs": [
    {
     "name": "stdout",
     "output_type": "stream",
     "text": [
      "kofi\n",
      "kofi\n"
     ]
    }
   ],
   "source": [
    "# Example:\n",
    "\n",
    "def print_twice(bruce):\n",
    "    \n",
    "    print(bruce)\n",
    "    print(bruce)\n",
    "    \n",
    "print_twice(\"kofi\")"
   ]
  },
  {
   "cell_type": "code",
   "execution_count": 153,
   "id": "feb48ca2",
   "metadata": {},
   "outputs": [
    {
     "name": "stdout",
     "output_type": "stream",
     "text": [
      "kofi\n",
      "kofi\n",
      "None\n"
     ]
    }
   ],
   "source": [
    "def print_twice(bruce):\n",
    "    \n",
    "    print(bruce)\n",
    "    print(bruce)\n",
    "\n",
    "result=print_twice(\"kofi\")\n",
    "print(result)"
   ]
  },
  {
   "cell_type": "markdown",
   "id": "c368439d",
   "metadata": {},
   "source": [
    "To return a result from a function, we use the return statement in our function.\n",
    "For example, we could make a very simple function called addtwo that adds two\n",
    "numbers together and returns a result"
   ]
  },
  {
   "cell_type": "code",
   "execution_count": 152,
   "id": "158815a4",
   "metadata": {},
   "outputs": [
    {
     "name": "stdout",
     "output_type": "stream",
     "text": [
      "15\n"
     ]
    }
   ],
   "source": [
    "def add_two(a,b):\n",
    "    added = a + b\n",
    "    return added\n",
    "\n",
    "x = add_two(5,10)\n",
    "print(x)"
   ]
  },
  {
   "cell_type": "markdown",
   "id": "2712885b",
   "metadata": {},
   "source": [
    "Exercise 4: What is the purpose of the “def” keyword in Python?\n",
    "    \n",
    "a) It is slang that means “the following code is really cool”\n",
    "# b) It indicates the start of a function\n",
    "c) It indicates that the following indented section of code is to be stored for later\n",
    "d) b and c are both true\n",
    "e) None of the above\n"
   ]
  },
  {
   "cell_type": "code",
   "execution_count": null,
   "id": "0e90efad",
   "metadata": {},
   "outputs": [],
   "source": []
  },
  {
   "cell_type": "markdown",
   "id": "4c8a0c77",
   "metadata": {},
   "source": [
    "Exercise 5: What will the following Python program print out?\n",
    "    \n",
    "def fred():\n",
    "    print(\"Zap\")\n",
    "    \n",
    "def jane():\n",
    "    print(\"ABC\")\n",
    "    \n",
    "jane()\n",
    "fred()\n",
    "jane()\n",
    "\n",
    "a) Zap ABC jane fred jane\n",
    "b) Zap ABC Zap\n",
    "c) ABC Zap jane\n",
    "# d) ABC Zap ABC\n",
    "e) Zap Zap Zap"
   ]
  },
  {
   "cell_type": "code",
   "execution_count": null,
   "id": "0f4d8a80",
   "metadata": {},
   "outputs": [],
   "source": []
  },
  {
   "cell_type": "code",
   "execution_count": 154,
   "id": "b6cd3beb",
   "metadata": {},
   "outputs": [
    {
     "name": "stdout",
     "output_type": "stream",
     "text": [
      "ABC\n",
      "Zap\n",
      "ABC\n"
     ]
    }
   ],
   "source": [
    "def fred():\n",
    "    print(\"Zap\")\n",
    "    \n",
    "def jane():\n",
    "    print(\"ABC\")\n",
    "    \n",
    "jane()\n",
    "fred()\n",
    "jane()"
   ]
  },
  {
   "cell_type": "code",
   "execution_count": null,
   "id": "55d917bb",
   "metadata": {},
   "outputs": [],
   "source": []
  },
  {
   "cell_type": "markdown",
   "id": "524142c8",
   "metadata": {},
   "source": [
    "# Exercise 6: \n",
    "\n",
    "Rewrite your pay computation with time-and-a-half for overtime and create a function called computepay which takes two parameters\n",
    "(hours and rate)."
   ]
  },
  {
   "cell_type": "code",
   "execution_count": 165,
   "id": "d70964f3",
   "metadata": {},
   "outputs": [
    {
     "name": "stdout",
     "output_type": "stream",
     "text": [
      "Enter hours: 45\n",
      "Enter rate: 10\n",
      "Pay: 475.0\n"
     ]
    }
   ],
   "source": [
    "def computepay(a,b):\n",
    "\n",
    "    if hour <= 40:\n",
    "        pay = hour*rate\n",
    "        print(f\"Pay: {pay}\")\n",
    "    else:\n",
    "        pay = 40*rate + abs(40-hour)*rate*1.5\n",
    "        print(f\"Pay: {pay}\")\n",
    "\n",
    "hour = float(input(\"Enter hours: \"))\n",
    "rate = float(input(\"Enter rate: \"))\n",
    "\n",
    "computepay(Hour, rate)   "
   ]
  },
  {
   "cell_type": "code",
   "execution_count": null,
   "id": "0cc89d01",
   "metadata": {},
   "outputs": [],
   "source": []
  },
  {
   "cell_type": "code",
   "execution_count": 163,
   "id": "b5f984a3",
   "metadata": {},
   "outputs": [
    {
     "name": "stdout",
     "output_type": "stream",
     "text": [
      "Enter hours: 45\n",
      "Enter rate: 10\n",
      "Pay: 475.0\n"
     ]
    }
   ],
   "source": [
    "def computepay(a,b):\n",
    "    hour = float(input(\"Enter hours: \"))\n",
    "    rate = float(input(\"Enter rate: \"))\n",
    "    if hour <= 40:\n",
    "        pay = hour*rate\n",
    "        print(f\"Pay: {pay}\")\n",
    "    else:\n",
    "        pay = 40*rate + abs(40-hour)*rate*1.5\n",
    "        print(f\"Pay: {pay}\")\n",
    "\n",
    "computepay(Hour, rate) "
   ]
  },
  {
   "cell_type": "code",
   "execution_count": null,
   "id": "c2a92dcf",
   "metadata": {},
   "outputs": [],
   "source": []
  },
  {
   "cell_type": "code",
   "execution_count": 166,
   "id": "0ad9ca92",
   "metadata": {},
   "outputs": [],
   "source": [
    "\n",
    "def computegrade():\n",
    "    grade = float(input(\"Enter grade:\"))\n",
    "\n",
    "    if 0.0 <= grade <= 1.0:\n",
    "        if grade >= 0.9 :\n",
    "            print(\"A\")\n",
    "    \n",
    "        elif grade >= 0.8:\n",
    "            print(\"B\")\n",
    "    \n",
    "        elif grade >= 0.7:\n",
    "            print(\"C\")\n",
    "    \n",
    "        elif grade >= 0.6:\n",
    "            print(\"D\")\n",
    "        \n",
    "        else:\n",
    "            print(\"F\")\n",
    "        \n",
    "    else:\n",
    "        print(\"Bad score\")\n",
    "        \n",
    "    return grade    \n",
    "\n",
    "computer"
   ]
  },
  {
   "cell_type": "code",
   "execution_count": null,
   "id": "652fe6b3",
   "metadata": {},
   "outputs": [],
   "source": []
  },
  {
   "cell_type": "code",
   "execution_count": null,
   "id": "6b966db0",
   "metadata": {},
   "outputs": [],
   "source": []
  },
  {
   "cell_type": "code",
   "execution_count": null,
   "id": "4afb7387",
   "metadata": {},
   "outputs": [],
   "source": []
  },
  {
   "cell_type": "code",
   "execution_count": null,
   "id": "4b3942f5",
   "metadata": {},
   "outputs": [],
   "source": []
  },
  {
   "cell_type": "code",
   "execution_count": null,
   "id": "754eced6",
   "metadata": {},
   "outputs": [],
   "source": []
  },
  {
   "cell_type": "code",
   "execution_count": null,
   "id": "ec8858a0",
   "metadata": {},
   "outputs": [],
   "source": []
  }
 ],
 "metadata": {
  "kernelspec": {
   "display_name": "Python 3 (ipykernel)",
   "language": "python",
   "name": "python3"
  },
  "language_info": {
   "codemirror_mode": {
    "name": "ipython",
    "version": 3
   },
   "file_extension": ".py",
   "mimetype": "text/x-python",
   "name": "python",
   "nbconvert_exporter": "python",
   "pygments_lexer": "ipython3",
   "version": "3.10.12"
  }
 },
 "nbformat": 4,
 "nbformat_minor": 5
}

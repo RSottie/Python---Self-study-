{
 "cells": [
  {
   "cell_type": "markdown",
   "id": "afaefaa4",
   "metadata": {},
   "source": [
    "#  Iteration\n",
    "\n",
    "Updating variables"
   ]
  },
  {
   "cell_type": "code",
   "execution_count": 1,
   "id": "8a19c1eb",
   "metadata": {},
   "outputs": [
    {
     "name": "stdout",
     "output_type": "stream",
     "text": [
      "20\n",
      "20\n"
     ]
    }
   ],
   "source": [
    "x = 10\n",
    "x = x + 10\n",
    "\n",
    "print(x)"
   ]
  },
  {
   "cell_type": "code",
   "execution_count": 2,
   "id": "b52847d5",
   "metadata": {},
   "outputs": [],
   "source": [
    "x = 10\n",
    "x += 10\n",
    "\n",
    "print(x)"
   ]
  },
  {
   "cell_type": "markdown",
   "id": "defd4bb6",
   "metadata": {},
   "source": [
    "# The while statement"
   ]
  },
  {
   "cell_type": "code",
   "execution_count": 3,
   "id": "078696d7",
   "metadata": {},
   "outputs": [],
   "source": [
    "n = -5\n",
    "\n",
    "# step 1 Evaluate the condition, yielding True or False.\n",
    "# step 2 If the condition is false, exit the while statement and continue execution at\n",
    "# the next statement.\n",
    "\n",
    "while n >0:\n",
    "    print(n)\n",
    "    n -= 1\n",
    "print(\"Blastoff! \")   "
   ]
  },
  {
   "cell_type": "code",
   "execution_count": 4,
   "id": "eb43816e",
   "metadata": {},
   "outputs": [],
   "source": [
    "n = 5\n",
    "\n",
    "# step 3 If the condition is true, execute the body and then go back to step 1.\n",
    "# This type of flow is called a loop because the third step loops back around to the\n",
    "# top. \n",
    "\n",
    "while n >0:\n",
    "    print(n)\n",
    "    n -= 1\n",
    "print(\"Blastoff! \")  "
   ]
  },
  {
   "cell_type": "code",
   "execution_count": null,
   "id": "b0d61d45",
   "metadata": {},
   "outputs": [],
   "source": []
  },
  {
   "cell_type": "markdown",
   "id": "b586f8aa",
   "metadata": {},
   "source": [
    "#  Infinite loops\n",
    "\n",
    "If there is no iteration variable, the loop will repeat forever, resulting in an infinite loop"
   ]
  },
  {
   "cell_type": "code",
   "execution_count": 5,
   "id": "f6128b75",
   "metadata": {},
   "outputs": [],
   "source": [
    "n = 10\n",
    "while False:# True for an infinite loop\n",
    "    print(n, end=' ')\n",
    "    n = n - 1\n",
    "print('Done!')"
   ]
  },
  {
   "cell_type": "markdown",
   "id": "1a5ffd61",
   "metadata": {},
   "source": [
    "we can still use this pattern to build useful loops as long as we carefully add code to the body of the loop to explicitly exit the loop using break when we have reached the exit condition."
   ]
  },
  {
   "cell_type": "code",
   "execution_count": 6,
   "id": "395954d7",
   "metadata": {},
   "outputs": [
    {
     "name": "stdout",
     "output_type": "stream",
     "text": [
      "Enter a word: done\n"
     ]
    }
   ],
   "source": [
    "while True:\n",
    "    line = input (\"Enter a word: \")\n",
    "    if line == \"done\":\n",
    "        break\n",
    "    print(line)\n",
    "print(\"Done!\")"
   ]
  },
  {
   "cell_type": "code",
   "execution_count": null,
   "id": "b0c71792",
   "metadata": {},
   "outputs": [],
   "source": []
  },
  {
   "cell_type": "markdown",
   "id": "532d0179",
   "metadata": {},
   "source": [
    "# Finishing iterations with continue\n",
    "you can use the continue statement to skip to the next iteration without finishing the body of the loop for\n",
    "the current iteration. Here the code treats lines that start with the hash character as lines not to be printed (kind of like Python comments)"
   ]
  },
  {
   "cell_type": "code",
   "execution_count": 7,
   "id": "560c8820",
   "metadata": {},
   "outputs": [
    {
     "name": "stdout",
     "output_type": "stream",
     "text": [
      "Enter a word: done\n"
     ]
    }
   ],
   "source": [
    "while True:\n",
    "    line = input (\"Enter a word: \")\n",
    "    if line[0] == \"#\":\n",
    "        continue\n",
    "    if line == \"done\":\n",
    "        break\n",
    "    print(line)\n",
    "print(\"Done!\")"
   ]
  },
  {
   "cell_type": "code",
   "execution_count": null,
   "id": "eb806d70",
   "metadata": {},
   "outputs": [],
   "source": []
  },
  {
   "cell_type": "markdown",
   "id": "e1ed6763",
   "metadata": {},
   "source": [
    "# Definite loops using for\n",
    "\n",
    "When we have a list of things to loop through, we can construct a definite loop using a for statement.\n",
    "We call the while statement an indefinite loop because it simply loops until some condition becomes False,\n",
    "whereas the for loop is looping through a known set of items so it runs through as many iterations as there are items in the set.\n",
    "The syntax of a for loop is similar to the while loop in that there is a for statement and a loop body"
   ]
  },
  {
   "cell_type": "code",
   "execution_count": 8,
   "id": "000f26dc",
   "metadata": {},
   "outputs": [],
   "source": [
    "friends = ['Joseph','Glenn', 'Sally']\n",
    "\n",
    "for friend in friends:\n",
    "    print(\"Happy New Year\", friend)\n",
    "    \n",
    "print(\"Done!\")\n",
    "\n",
    "# Looking at the for loop, for and in are reserved Python keywords, and friend\n",
    "# and friends are variables."
   ]
  },
  {
   "cell_type": "code",
   "execution_count": null,
   "id": "0b19c39b",
   "metadata": {},
   "outputs": [],
   "source": []
  },
  {
   "cell_type": "markdown",
   "id": "91474eb4",
   "metadata": {},
   "source": [
    "# Loop patterns\n",
    "\n",
    "* Initializing one or more variables before the loop starts\n",
    "* Performing some computation on each item in the loop body, possibly changing the variables in the body of the loop\n",
    "* Looking at the resulting variables when the loop completes"
   ]
  },
  {
   "cell_type": "markdown",
   "id": "92f74ee6",
   "metadata": {},
   "source": [
    "# Counting and summing loops\n",
    "For example, to count the number of items in a list, we would write the following\n",
    "for loop:"
   ]
  },
  {
   "cell_type": "code",
   "execution_count": 9,
   "id": "386d351c",
   "metadata": {},
   "outputs": [],
   "source": [
    "# count\n",
    "count = 0\n",
    "for itervar in [3,41,12,9,74,15]:\n",
    "    count = count + 1\n",
    "print(\"Count: \", count)"
   ]
  },
  {
   "cell_type": "code",
   "execution_count": 10,
   "id": "a0ef165d",
   "metadata": {},
   "outputs": [],
   "source": [
    "# sum\n",
    "total = 0\n",
    "for itervar in [3,41,12,9,74,15]:\n",
    "    total = total + itervar\n",
    "print(\"Total: \", total)"
   ]
  },
  {
   "cell_type": "code",
   "execution_count": null,
   "id": "952a8ea9",
   "metadata": {},
   "outputs": [],
   "source": []
  },
  {
   "cell_type": "markdown",
   "id": "01a374e4",
   "metadata": {},
   "source": [
    "Neither the counting loop nor the summing loop are particularly useful in practice\n",
    "because there are built-in functions len() and sum() that compute the number of\n",
    "items in a list and the total of the items in the list respectively."
   ]
  },
  {
   "cell_type": "code",
   "execution_count": 11,
   "id": "1a69d514",
   "metadata": {},
   "outputs": [],
   "source": [
    "list1 = [3,41,12,9,74,15]\n",
    "len(list1)"
   ]
  },
  {
   "cell_type": "code",
   "execution_count": 12,
   "id": "68f3322c",
   "metadata": {},
   "outputs": [],
   "source": [
    "list1 = [3,41,12,9,74,15]\n",
    "sum(list1)"
   ]
  },
  {
   "cell_type": "markdown",
   "id": "bb2cb5eb",
   "metadata": {},
   "source": [
    "#  Maximum and minimum loops\n",
    "To find the largest value in a list or sequence, we construct the following loop:\n"
   ]
  },
  {
   "cell_type": "code",
   "execution_count": 13,
   "id": "f5cd6432",
   "metadata": {},
   "outputs": [],
   "source": [
    "largest = None\n",
    "\n",
    "print('Before:', largest)\n",
    "\n",
    "for itervar in [3, 41, 12, 9, 74, 15]:\n",
    "    \n",
    "    if largest is None or itervar > largest :\n",
    "        largest = itervar\n",
    "    print('Loop:', itervar, largest)\n",
    "    \n",
    "print('Largest:', largest)"
   ]
  },
  {
   "cell_type": "markdown",
   "id": "05b05a76",
   "metadata": {},
   "source": [
    "None is a special constant\n",
    "value which we can store in a variable to mark the variable as “empty”."
   ]
  },
  {
   "cell_type": "markdown",
   "id": "54b10685",
   "metadata": {},
   "source": [
    "# To compute the smallest number, the code is very similar with one small change:\n"
   ]
  },
  {
   "cell_type": "code",
   "execution_count": 14,
   "id": "a1b2e848",
   "metadata": {},
   "outputs": [],
   "source": [
    "smallest = None\n",
    "\n",
    "print('Before:', largest)\n",
    "\n",
    "for itervar in [3, 41, 12, 9, 74, 15]:\n",
    "    \n",
    "    if smallest is None or itervar < smallest :\n",
    "        smallest = itervar\n",
    "    print('Loop:', itervar, smallest)\n",
    "    \n",
    "print('smallest:', smallest)"
   ]
  },
  {
   "cell_type": "markdown",
   "id": "0eb6366a",
   "metadata": {},
   "source": [
    "Again as in counting and summing, the built-in functions max() and min() make\n",
    "writing these exact loops unnecessary."
   ]
  },
  {
   "cell_type": "code",
   "execution_count": 15,
   "id": "28ea5f6c",
   "metadata": {},
   "outputs": [],
   "source": [
    "list1 = [3,41,12,9,74,15]\n",
    "min(list1)"
   ]
  },
  {
   "cell_type": "code",
   "execution_count": 16,
   "id": "54d59c43",
   "metadata": {},
   "outputs": [],
   "source": [
    "list1 = [3,41,12,9,74,15]\n",
    "max(list1)"
   ]
  },
  {
   "cell_type": "markdown",
   "id": "d0a63402",
   "metadata": {},
   "source": [
    "The following is a simple version of the Python built-in min() function:"
   ]
  },
  {
   "cell_type": "code",
   "execution_count": 17,
   "id": "a8eee001",
   "metadata": {},
   "outputs": [],
   "source": [
    "def find_min(values):\n",
    "    smallest = None\n",
    "    for value in values:\n",
    "        if smallest is None or value < smallest:\n",
    "            smallest = value\n",
    "    return smallest\n",
    "\n",
    "# List of values\n",
    "input_values = [3, 41, 12, 9, 74, 15]\n",
    "\n",
    "# Call the function with the list\n",
    "result = find_min(input_values)\n",
    "\n",
    "# Print the result\n",
    "print(result)\n"
   ]
  },
  {
   "cell_type": "markdown",
   "id": "86683b89",
   "metadata": {},
   "source": [
    "# Exercises\n",
    "\n",
    "Exercise 1: Write a program which repeatedly reads numbers until the\n",
    "user enters “done”. Once “done” is entered, print out the total, count,\n",
    "and average of the numbers. If the user enters anything other than a\n",
    "number, detect their mistake using try and except and print an error\n",
    "message and skip to the next number."
   ]
  },
  {
   "cell_type": "code",
   "execution_count": 18,
   "id": "7ce8124b",
   "metadata": {},
   "outputs": [
    {
     "name": "stdout",
     "output_type": "stream",
     "text": [
      "Enter a number or done: done\n"
     ]
    }
   ],
   "source": [
    "count = 0\n",
    "total = 0\n",
    "\n",
    "while True:\n",
    "    \n",
    "    user = input(\"Enter a number or done: \")\n",
    "    \n",
    "    if user == \"done\":\n",
    "        break\n",
    "        \n",
    "    try: \n",
    "        user = int(user)\n",
    "        count = count + 1\n",
    "        total = total + user\n",
    "        average = total/count\n",
    "    except:\n",
    "        print(\"Enter a number:\")\n",
    "        \n",
    "print(\"Count:\", count)\n",
    "print(\"Total: \", total)\n",
    "print(\"Average: \", average)"
   ]
  },
  {
   "cell_type": "code",
   "execution_count": null,
   "id": "d8244e69",
   "metadata": {},
   "outputs": [],
   "source": []
  },
  {
   "cell_type": "markdown",
   "id": "d92bfea5",
   "metadata": {},
   "source": [
    "Exercise 2: Write another program that prompts for a list of numbers\n",
    "as above and at the end prints out both the maximum and minimum of\n",
    "the numbers instead of the average."
   ]
  },
  {
   "cell_type": "code",
   "execution_count": 2,
   "id": "cef4e7e8",
   "metadata": {},
   "outputs": [
    {
     "name": "stdout",
     "output_type": "stream",
     "text": [
      "Enter a list of numbers separated by space: 2 5 3 10 6 70 5 -1\n",
      "Enter a list of numbers separated by space: done\n",
      "Minimum: -1\n",
      "Maximum: 70\n"
     ]
    }
   ],
   "source": [
    "min_num = None\n",
    "max_num = None\n",
    "\n",
    "while True:\n",
    "    try:\n",
    "        values1 = input(\"Enter a list of numbers separated by space: \")\n",
    "\n",
    "        if values1.lower() == 'done':\n",
    "            break\n",
    "\n",
    "        # Split the input string into a list of strings\n",
    "        values2 = values1.split()\n",
    "\n",
    "        # Convert the list of strings to a list of integers\n",
    "        values = [int(num) for num in values2]\n",
    "\n",
    "        for num in values:\n",
    "            if min_num is None or num < min_num:\n",
    "                min_num = num\n",
    "            if max_num is None or num > max_num:\n",
    "                max_num = num\n",
    "\n",
    "    except ValueError:\n",
    "        print(\"Enter valid numbers:\")\n",
    "\n",
    "print(\"Minimum:\", min_num)\n",
    "print(\"Maximum:\", max_num)\n"
   ]
  },
  {
   "cell_type": "code",
   "execution_count": null,
   "id": "a5b95a2d",
   "metadata": {},
   "outputs": [],
   "source": []
  },
  {
   "cell_type": "code",
   "execution_count": null,
   "id": "7a58a25d",
   "metadata": {},
   "outputs": [],
   "source": []
  },
  {
   "cell_type": "code",
   "execution_count": null,
   "id": "133921fd",
   "metadata": {},
   "outputs": [],
   "source": []
  },
  {
   "cell_type": "code",
   "execution_count": null,
   "id": "806f1038",
   "metadata": {},
   "outputs": [],
   "source": []
  },
  {
   "cell_type": "code",
   "execution_count": null,
   "id": "f713a8c8",
   "metadata": {},
   "outputs": [],
   "source": []
  },
  {
   "cell_type": "code",
   "execution_count": null,
   "id": "218b16f2",
   "metadata": {},
   "outputs": [],
   "source": []
  },
  {
   "cell_type": "code",
   "execution_count": null,
   "id": "d9e318c1",
   "metadata": {},
   "outputs": [],
   "source": []
  },
  {
   "cell_type": "code",
   "execution_count": null,
   "id": "193adc12",
   "metadata": {},
   "outputs": [],
   "source": []
  },
  {
   "cell_type": "code",
   "execution_count": null,
   "id": "6533891c",
   "metadata": {},
   "outputs": [],
   "source": []
  },
  {
   "cell_type": "code",
   "execution_count": null,
   "id": "47dc746f",
   "metadata": {},
   "outputs": [],
   "source": []
  },
  {
   "cell_type": "code",
   "execution_count": null,
   "id": "a015c7c0",
   "metadata": {},
   "outputs": [],
   "source": []
  },
  {
   "cell_type": "code",
   "execution_count": null,
   "id": "1f857944",
   "metadata": {},
   "outputs": [],
   "source": []
  }
 ],
 "metadata": {
  "kernelspec": {
   "display_name": "Python 3 (ipykernel)",
   "language": "python",
   "name": "python3"
  },
  "language_info": {
   "codemirror_mode": {
    "name": "ipython",
    "version": 3
   },
   "file_extension": ".py",
   "mimetype": "text/x-python",
   "name": "python",
   "nbconvert_exporter": "python",
   "pygments_lexer": "ipython3",
   "version": "3.10.12"
  }
 },
 "nbformat": 4,
 "nbformat_minor": 5
}

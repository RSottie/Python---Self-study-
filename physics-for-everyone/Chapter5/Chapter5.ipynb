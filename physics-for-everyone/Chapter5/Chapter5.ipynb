{
 "cells": [
  {
   "cell_type": "markdown",
   "id": "afaefaa4",
   "metadata": {},
   "source": [
    "#  Iteration\n",
    "\n",
    "Updating variables"
   ]
  },
  {
   "cell_type": "code",
   "execution_count": 2,
   "id": "8a19c1eb",
   "metadata": {},
   "outputs": [
    {
     "name": "stdout",
     "output_type": "stream",
     "text": [
      "20\n"
     ]
    }
   ],
   "source": [
    "x = 10\n",
    "x = x + 10\n",
    "\n",
    "print(x)"
   ]
  },
  {
   "cell_type": "code",
   "execution_count": 3,
   "id": "b52847d5",
   "metadata": {},
   "outputs": [
    {
     "name": "stdout",
     "output_type": "stream",
     "text": [
      "20\n"
     ]
    }
   ],
   "source": [
    "x = 10\n",
    "x += 10\n",
    "\n",
    "print(x)"
   ]
  },
  {
   "cell_type": "markdown",
   "id": "defd4bb6",
   "metadata": {},
   "source": [
    "# The while statement"
   ]
  },
  {
   "cell_type": "code",
   "execution_count": 8,
   "id": "078696d7",
   "metadata": {},
   "outputs": [
    {
     "name": "stdout",
     "output_type": "stream",
     "text": [
      "Blastoff! \n"
     ]
    }
   ],
   "source": [
    "n = -5\n",
    "\n",
    "# step 1 Evaluate the condition, yielding True or False.\n",
    "# step 2 If the condition is false, exit the while statement and continue execution at\n",
    "# the next statement.\n",
    "\n",
    "while n >0:\n",
    "    print(n)\n",
    "    n -= 1\n",
    "print(\"Blastoff! \")   "
   ]
  },
  {
   "cell_type": "code",
   "execution_count": 14,
   "id": "eb43816e",
   "metadata": {},
   "outputs": [
    {
     "name": "stdout",
     "output_type": "stream",
     "text": [
      "5\n",
      "4\n",
      "3\n",
      "2\n",
      "1\n",
      "Blastoff! \n"
     ]
    }
   ],
   "source": [
    "n = 5\n",
    "\n",
    "# step 3 If the condition is true, execute the body and then go back to step 1.\n",
    "# This type of flow is called a loop because the third step loops back around to the\n",
    "# top. \n",
    "\n",
    "while n >0:\n",
    "    print(n)\n",
    "    n -= 1\n",
    "print(\"Blastoff! \")  "
   ]
  },
  {
   "cell_type": "code",
   "execution_count": null,
   "id": "b0d61d45",
   "metadata": {},
   "outputs": [],
   "source": []
  },
  {
   "cell_type": "markdown",
   "id": "b586f8aa",
   "metadata": {},
   "source": [
    "#  Infinite loops\n",
    "\n",
    "If there is no iteration variable, the loop will repeat forever, resulting in an infinite loop"
   ]
  },
  {
   "cell_type": "code",
   "execution_count": 17,
   "id": "f6128b75",
   "metadata": {},
   "outputs": [
    {
     "name": "stdout",
     "output_type": "stream",
     "text": [
      "Done!\n"
     ]
    }
   ],
   "source": [
    "n = 10\n",
    "while True:\n",
    "    print(n, end=' ')\n",
    "    n = n - 1\n",
    "print('Done!')"
   ]
  },
  {
   "cell_type": "code",
   "execution_count": null,
   "id": "7309ffc9",
   "metadata": {},
   "outputs": [],
   "source": []
  },
  {
   "cell_type": "code",
   "execution_count": null,
   "id": "395954d7",
   "metadata": {},
   "outputs": [],
   "source": []
  },
  {
   "cell_type": "code",
   "execution_count": null,
   "id": "b0c71792",
   "metadata": {},
   "outputs": [],
   "source": []
  },
  {
   "cell_type": "code",
   "execution_count": null,
   "id": "f1f58a84",
   "metadata": {},
   "outputs": [],
   "source": []
  },
  {
   "cell_type": "code",
   "execution_count": null,
   "id": "560c8820",
   "metadata": {},
   "outputs": [],
   "source": []
  },
  {
   "cell_type": "code",
   "execution_count": null,
   "id": "eb806d70",
   "metadata": {},
   "outputs": [],
   "source": []
  },
  {
   "cell_type": "code",
   "execution_count": null,
   "id": "48f014c4",
   "metadata": {},
   "outputs": [],
   "source": []
  },
  {
   "cell_type": "code",
   "execution_count": null,
   "id": "000f26dc",
   "metadata": {},
   "outputs": [],
   "source": []
  },
  {
   "cell_type": "code",
   "execution_count": null,
   "id": "0b19c39b",
   "metadata": {},
   "outputs": [],
   "source": []
  },
  {
   "cell_type": "code",
   "execution_count": null,
   "id": "2693423b",
   "metadata": {},
   "outputs": [],
   "source": []
  },
  {
   "cell_type": "code",
   "execution_count": null,
   "id": "682df1d2",
   "metadata": {},
   "outputs": [],
   "source": []
  },
  {
   "cell_type": "code",
   "execution_count": null,
   "id": "386d351c",
   "metadata": {},
   "outputs": [],
   "source": []
  },
  {
   "cell_type": "code",
   "execution_count": null,
   "id": "a0ef165d",
   "metadata": {},
   "outputs": [],
   "source": []
  }
 ],
 "metadata": {
  "kernelspec": {
   "display_name": "Python 3 (ipykernel)",
   "language": "python",
   "name": "python3"
  },
  "language_info": {
   "codemirror_mode": {
    "name": "ipython",
    "version": 3
   },
   "file_extension": ".py",
   "mimetype": "text/x-python",
   "name": "python",
   "nbconvert_exporter": "python",
   "pygments_lexer": "ipython3",
   "version": "3.10.12"
  }
 },
 "nbformat": 4,
 "nbformat_minor": 5
}

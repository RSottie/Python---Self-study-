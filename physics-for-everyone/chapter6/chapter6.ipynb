{
 "cells": [
  {
   "cell_type": "markdown",
   "id": "827da443",
   "metadata": {},
   "source": [
    "#  Strings\n",
    "A string is a sequence of characters. You can access the characters one at a time\n",
    "with the bracket operator:"
   ]
  },
  {
   "cell_type": "code",
   "execution_count": 5,
   "id": "2663efe2",
   "metadata": {},
   "outputs": [
    {
     "name": "stdout",
     "output_type": "stream",
     "text": [
      "a\n"
     ]
    }
   ],
   "source": [
    "fruit = \"banana\"\n",
    "letter = fruit[1]\n",
    "\n",
    "print(letter)"
   ]
  },
  {
   "cell_type": "markdown",
   "id": "152d42c2",
   "metadata": {},
   "source": [
    "For most people, the first letter of “banana” is “b”, not “a”. But in Python, the\n",
    "index is an offset from the beginning of the string, and the offset of the first letter\n",
    "is zero."
   ]
  },
  {
   "cell_type": "markdown",
   "id": "912337e7",
   "metadata": {},
   "source": [
    "Getting the length of a string using len.len is a built-in function that returns the number of characters in a string:\n"
   ]
  },
  {
   "cell_type": "code",
   "execution_count": 6,
   "id": "cf6e77a1",
   "metadata": {},
   "outputs": [
    {
     "data": {
      "text/plain": [
       "6"
      ]
     },
     "execution_count": 6,
     "metadata": {},
     "output_type": "execute_result"
    }
   ],
   "source": [
    "len(fruit)"
   ]
  },
  {
   "cell_type": "code",
   "execution_count": 8,
   "id": "9b20f8e3",
   "metadata": {},
   "outputs": [
    {
     "name": "stdout",
     "output_type": "stream",
     "text": [
      "a\n"
     ]
    }
   ],
   "source": [
    "# To get the last letter of a string\n",
    "lenght = len(fruit)\n",
    "last_letter = lenght - 1\n",
    "\n",
    "print(fruit[last_letter])"
   ]
  },
  {
   "cell_type": "markdown",
   "id": "9a26870d",
   "metadata": {},
   "source": [
    "Alternatively, you can use negative indices, which count backward from the end of\n",
    "the string. The expression fruit[-1] yields the last letter, fruit[-2] yields the\n",
    "second to last, and so on."
   ]
  },
  {
   "cell_type": "code",
   "execution_count": 9,
   "id": "a2782a0f",
   "metadata": {},
   "outputs": [
    {
     "name": "stdout",
     "output_type": "stream",
     "text": [
      "n\n"
     ]
    }
   ],
   "source": [
    "print(fruit[-4])"
   ]
  },
  {
   "cell_type": "code",
   "execution_count": 10,
   "id": "2dc57c7c",
   "metadata": {},
   "outputs": [
    {
     "name": "stdout",
     "output_type": "stream",
     "text": [
      "a\n"
     ]
    }
   ],
   "source": [
    "print(fruit[-1])"
   ]
  },
  {
   "cell_type": "markdown",
   "id": "30244cc1",
   "metadata": {},
   "source": [
    "# Traversal through a string with a loop\n",
    "A lot of computations involve processing a string one character at a time. Often\n",
    "they start at the beginning, select each character in turn, do something to it, and\n",
    "continue until the end. This pattern of processing is called a traversal. One way\n",
    "to write a traversal is with a while loop"
   ]
  },
  {
   "cell_type": "code",
   "execution_count": 15,
   "id": "d57c6b68",
   "metadata": {},
   "outputs": [
    {
     "name": "stdout",
     "output_type": "stream",
     "text": [
      "b\n",
      "a\n",
      "n\n",
      "a\n",
      "n\n",
      "a\n"
     ]
    }
   ],
   "source": [
    "index = 0\n",
    "while index < len(fruit):\n",
    "    letter = fruit[index]\n",
    "    print(letter)\n",
    "    index = index + 1\n",
    "    \n",
    "# The loop condition is index < len(fruit), so when index is equal to the length of\n",
    "# the string, the condition is false, and the body of the loop is not executed."
   ]
  },
  {
   "cell_type": "markdown",
   "id": "b4970f45",
   "metadata": {},
   "source": [
    "# Exercise 1: Write a while loop that starts at the last character in the\n",
    "string and works its way backwards to the first character in the string,\n",
    "printing each letter on a separate line, except backwards."
   ]
  },
  {
   "cell_type": "code",
   "execution_count": 21,
   "id": "07ea1abc",
   "metadata": {},
   "outputs": [
    {
     "name": "stdout",
     "output_type": "stream",
     "text": [
      "s\n",
      "e\n",
      "o\n",
      "t\n",
      "a\n",
      "t\n",
      "o\n",
      "p\n"
     ]
    }
   ],
   "source": [
    "frav = \"potatoes\"\n",
    "index = -1\n",
    "\n",
    "while index > -(1+len(frav)):\n",
    "    letter = frav[index]\n",
    "    print(letter)\n",
    "    index = index-1"
   ]
  },
  {
   "cell_type": "markdown",
   "id": "b773db74",
   "metadata": {},
   "source": [
    "# Another way to write a traversal is with a for loop"
   ]
  },
  {
   "cell_type": "code",
   "execution_count": 22,
   "id": "3e52b519",
   "metadata": {},
   "outputs": [
    {
     "name": "stdout",
     "output_type": "stream",
     "text": [
      "R\n",
      "i\n",
      "c\n",
      "h\n",
      "a\n",
      "r\n",
      "d\n"
     ]
    }
   ],
   "source": [
    "name = \"Richard\"\n",
    "\n",
    "for char in name:\n",
    "    print(char)"
   ]
  },
  {
   "cell_type": "code",
   "execution_count": 41,
   "id": "e670f92e",
   "metadata": {},
   "outputs": [
    {
     "name": "stdout",
     "output_type": "stream",
     "text": [
      "d\n",
      "r\n",
      "a\n",
      "h\n",
      "c\n",
      "i\n",
      "R\n"
     ]
    }
   ],
   "source": [
    "name = \"Richard\"\n",
    "\n",
    "for char in name[::-1]:\n",
    "    print(char)\n"
   ]
  },
  {
   "cell_type": "code",
   "execution_count": 45,
   "id": "487dce55",
   "metadata": {},
   "outputs": [
    {
     "name": "stdout",
     "output_type": "stream",
     "text": [
      "d\n",
      "r\n",
      "a\n",
      "h\n",
      "c\n",
      "i\n",
      "R\n"
     ]
    }
   ],
   "source": [
    "name = \"Richard\"\n",
    "\n",
    "reversed_name = \"\"\n",
    "\n",
    "for char in range(len(name)-1,-1,-1):\n",
    "    reversed_name = name[char]\n",
    "    print(reversed_name)\n"
   ]
  },
  {
   "cell_type": "markdown",
   "id": "e52eb531",
   "metadata": {},
   "source": [
    "# String slices\n",
    "A segment of a string is called a slice. Selecting a slice is similar to selecting a\n",
    "character:"
   ]
  },
  {
   "cell_type": "code",
   "execution_count": null,
   "id": "4e74785e",
   "metadata": {},
   "outputs": [],
   "source": []
  },
  {
   "cell_type": "code",
   "execution_count": null,
   "id": "5df428e4",
   "metadata": {},
   "outputs": [],
   "source": []
  },
  {
   "cell_type": "code",
   "execution_count": null,
   "id": "b98298da",
   "metadata": {},
   "outputs": [],
   "source": []
  }
 ],
 "metadata": {
  "kernelspec": {
   "display_name": "Python 3 (ipykernel)",
   "language": "python",
   "name": "python3"
  },
  "language_info": {
   "codemirror_mode": {
    "name": "ipython",
    "version": 3
   },
   "file_extension": ".py",
   "mimetype": "text/x-python",
   "name": "python",
   "nbconvert_exporter": "python",
   "pygments_lexer": "ipython3",
   "version": "3.10.12"
  }
 },
 "nbformat": 4,
 "nbformat_minor": 5
}

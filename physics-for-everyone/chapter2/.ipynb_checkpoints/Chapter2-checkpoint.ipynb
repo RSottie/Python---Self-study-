{
 "cells": [
  {
   "cell_type": "markdown",
   "id": "2b5c205c",
   "metadata": {},
   "source": [
    "# Variables, expressions, and statements\n"
   ]
  },
  {
   "cell_type": "markdown",
   "id": "d9610ef2",
   "metadata": {},
   "source": [
    "# Values and Types\n",
    "# Values: One of the basic things a program works with eg: 1, \"Hello world!\", etc"
   ]
  },
  {
   "cell_type": "code",
   "execution_count": 7,
   "id": "d1518afa",
   "metadata": {},
   "outputs": [
    {
     "data": {
      "text/plain": [
       "int"
      ]
     },
     "execution_count": 7,
     "metadata": {},
     "output_type": "execute_result"
    }
   ],
   "source": [
    "# integer\n",
    "x = 2\n",
    "type (x)\n"
   ]
  },
  {
   "cell_type": "code",
   "execution_count": 6,
   "id": "c545ad42",
   "metadata": {},
   "outputs": [
    {
     "data": {
      "text/plain": [
       "str"
      ]
     },
     "execution_count": 6,
     "metadata": {},
     "output_type": "execute_result"
    }
   ],
   "source": [
    "# string\n",
    "y = \"Hello world\"\n",
    "type(y)"
   ]
  },
  {
   "cell_type": "code",
   "execution_count": 9,
   "id": "4800039a",
   "metadata": {},
   "outputs": [
    {
     "data": {
      "text/plain": [
       "float"
      ]
     },
     "execution_count": 9,
     "metadata": {},
     "output_type": "execute_result"
    }
   ],
   "source": [
    "# float\n",
    "z = 2.1\n",
    "type(z)"
   ]
  },
  {
   "cell_type": "code",
   "execution_count": 10,
   "id": "5ad1a645",
   "metadata": {},
   "outputs": [
    {
     "data": {
      "text/plain": [
       "str"
      ]
     },
     "execution_count": 10,
     "metadata": {},
     "output_type": "execute_result"
    }
   ],
   "source": [
    "k = \"17\"\n",
    "type(k)"
   ]
  },
  {
   "cell_type": "code",
   "execution_count": 11,
   "id": "00a7d3fa",
   "metadata": {},
   "outputs": [
    {
     "name": "stdout",
     "output_type": "stream",
     "text": [
      "1 0 0\n"
     ]
    }
   ],
   "source": [
    "print(1,000,000)"
   ]
  },
  {
   "cell_type": "markdown",
   "id": "fe39030f",
   "metadata": {},
   "source": [
    "# Variables\n",
    "Can contain both letters and numbers but can not start with numbers\n",
    "Legal to use uppercase letters but a good idea to use lower case letters\n",
    "underscore character can appear in a name\n",
    "variable names can start with underscore but it's generally discouraged\n"
   ]
  },
  {
   "cell_type": "code",
   "execution_count": null,
   "id": "467f6a99",
   "metadata": {},
   "outputs": [],
   "source": []
  },
  {
   "cell_type": "markdown",
   "id": "827256ae",
   "metadata": {},
   "source": [
    "# Operators ajnd operands\n",
    "// truncates a float to return integers\n",
    "% modulus operayor\n",
    "// prints quotient whereas % prints remainder"
   ]
  },
  {
   "cell_type": "code",
   "execution_count": 14,
   "id": "9b17433e",
   "metadata": {},
   "outputs": [
    {
     "data": {
      "text/plain": [
       "30"
      ]
     },
     "execution_count": 14,
     "metadata": {},
     "output_type": "execute_result"
    }
   ],
   "source": [
    "30%50"
   ]
  },
  {
   "cell_type": "code",
   "execution_count": 13,
   "id": "34df722d",
   "metadata": {},
   "outputs": [
    {
     "data": {
      "text/plain": [
       "0"
      ]
     },
     "execution_count": 13,
     "metadata": {},
     "output_type": "execute_result"
    }
   ],
   "source": [
    "30//50"
   ]
  },
  {
   "cell_type": "code",
   "execution_count": 17,
   "id": "b9af2981",
   "metadata": {},
   "outputs": [
    {
     "data": {
      "text/plain": [
       "6"
      ]
     },
     "execution_count": 17,
     "metadata": {},
     "output_type": "execute_result"
    }
   ],
   "source": [
    "# Exercise 1\n",
    "\n",
    "5\n",
    "x = 5\n",
    "x +1"
   ]
  },
  {
   "cell_type": "markdown",
   "id": "586fa534",
   "metadata": {},
   "source": [
    "# Order of operation\n",
    "PEMDAS = Parenthesis -> Exponentiation -> Multiplication -> Division -> Addition -> Subtraction "
   ]
  },
  {
   "cell_type": "markdown",
   "id": "77640833",
   "metadata": {},
   "source": [
    "# string operation\n",
    "+ works with strings but in like additin: Concatenation\n"
   ]
  },
  {
   "cell_type": "code",
   "execution_count": 21,
   "id": "7cfb450c",
   "metadata": {},
   "outputs": [
    {
     "name": "stdout",
     "output_type": "stream",
     "text": [
      "When is the quiz? Friday night\n"
     ]
    }
   ],
   "source": [
    "kofi = \"When is the quiz?\"\n",
    "ama = \" Friday night\"\n",
    "\n",
    "print(kofi + ama)"
   ]
  },
  {
   "cell_type": "markdown",
   "id": "dad9e161",
   "metadata": {},
   "source": [
    "#  * works with strings too by multiplying stirng with an integer"
   ]
  },
  {
   "cell_type": "code",
   "execution_count": 30,
   "id": "e9ebae21",
   "metadata": {},
   "outputs": [
    {
     "name": "stdout",
     "output_type": "stream",
     "text": [
      "\n",
      "*\n",
      "**\n",
      "***\n",
      "****\n"
     ]
    }
   ],
   "source": [
    "kofi_init = \"*\"\n",
    "\n",
    "for i in range(5):\n",
    "    kofi = i*kofi_init\n",
    "    print(kofi)"
   ]
  },
  {
   "cell_type": "code",
   "execution_count": null,
   "id": "6dcd202f",
   "metadata": {},
   "outputs": [],
   "source": [
    "\n"
   ]
  },
  {
   "cell_type": "markdown",
   "id": "4f66ca8b",
   "metadata": {},
   "source": [
    "# Asking user for an input\n",
    "use input()"
   ]
  },
  {
   "cell_type": "code",
   "execution_count": 32,
   "id": "84c7b18b",
   "metadata": {},
   "outputs": [
    {
     "name": "stdout",
     "output_type": "stream",
     "text": [
      "Lavoisier is back\n",
      "Lavoisier is back\n"
     ]
    }
   ],
   "source": [
    "int = input()\n",
    "print(int)"
   ]
  },
  {
   "cell_type": "markdown",
   "id": "1aecda36",
   "metadata": {},
   "source": [
    "# Eercies 2.15"
   ]
  },
  {
   "cell_type": "code",
   "execution_count": null,
   "id": "7432f972",
   "metadata": {},
   "outputs": [],
   "source": []
  },
  {
   "cell_type": "markdown",
   "id": "fd9949b3",
   "metadata": {},
   "source": [
    "# Exercise 2\n",
    "Write a program that uses input to prompt a user for their\n",
    "name and then welcomes them.\n"
   ]
  },
  {
   "cell_type": "code",
   "execution_count": 36,
   "id": "ea93723c",
   "metadata": {},
   "outputs": [
    {
     "name": "stdout",
     "output_type": "stream",
     "text": [
      "Enter your name: Chuck\n",
      "Hello Chuck\n",
      "Hello Chuck\n"
     ]
    }
   ],
   "source": [
    "name = input(\"Enter your name: \")\n",
    "print(f\"Hello {name}\")\n",
    "print(\"Hello \" + name)"
   ]
  },
  {
   "cell_type": "markdown",
   "id": "20c2f35b",
   "metadata": {},
   "source": [
    "# Exercise 3\n",
    "Write a program to prompt the user for hours and rate per\n",
    "hour to compute gross pay.\n"
   ]
  },
  {
   "cell_type": "code",
   "execution_count": 3,
   "id": "08d56f50",
   "metadata": {},
   "outputs": [
    {
     "name": "stdout",
     "output_type": "stream",
     "text": [
      "Enter rate: 2.75\n",
      "Enter hour: 35\n",
      "pay: 96.25\n"
     ]
    }
   ],
   "source": [
    "rate =float(input(\"Enter rate: \"))\n",
    "hour = int(input(\"Enter hour: \"))\n",
    "pay = rate*hour\n",
    "\n",
    "print(f\"pay: {pay}\")"
   ]
  },
  {
   "cell_type": "code",
   "execution_count": null,
   "id": "9a427bb3",
   "metadata": {},
   "outputs": [],
   "source": []
  },
  {
   "cell_type": "markdown",
   "id": "4e6fd08e",
   "metadata": {},
   "source": [
    "# Exercise 4: \n",
    "Assume that we execute the following assignment statements:"
   ]
  },
  {
   "cell_type": "code",
   "execution_count": 6,
   "id": "6acc0395",
   "metadata": {},
   "outputs": [
    {
     "name": "stdout",
     "output_type": "stream",
     "text": [
      "3\n",
      "3.5\n",
      "4.0\n",
      "11\n"
     ]
    }
   ],
   "source": [
    "width = 7\n",
    "height = 12.0\n",
    "\n",
    "print(f\"{width//2}\") # 3\n",
    "print(f\"{width/2.0}\") #3.5\n",
    "print(f\"{height/3}\") # 4.0\n",
    "print( 1 + 2 * 5) #11\n"
   ]
  },
  {
   "cell_type": "markdown",
   "id": "661c5287",
   "metadata": {},
   "source": [
    "# Exercise 5:\n",
    "Write a program which prompts the user for a Celsius temperature, convert the temperature to Fahrenheit, and print out the\n",
    "converted temperature."
   ]
  },
  {
   "cell_type": "code",
   "execution_count": 8,
   "id": "95767df1",
   "metadata": {},
   "outputs": [
    {
     "name": "stdout",
     "output_type": "stream",
     "text": [
      "Value in celcius: 32\n",
      "89.6\n"
     ]
    }
   ],
   "source": [
    "cel = float(input(\"Value in celcius: \"))\n",
    "fah = 32 + (9/5)*cel\n",
    "\n",
    "print(fah)"
   ]
  },
  {
   "cell_type": "code",
   "execution_count": null,
   "id": "2d6a863a",
   "metadata": {},
   "outputs": [],
   "source": []
  }
 ],
 "metadata": {
  "kernelspec": {
   "display_name": "Python 3 (ipykernel)",
   "language": "python",
   "name": "python3"
  },
  "language_info": {
   "codemirror_mode": {
    "name": "ipython",
    "version": 3
   },
   "file_extension": ".py",
   "mimetype": "text/x-python",
   "name": "python",
   "nbconvert_exporter": "python",
   "pygments_lexer": "ipython3",
   "version": "3.10.12"
  }
 },
 "nbformat": 4,
 "nbformat_minor": 5
}

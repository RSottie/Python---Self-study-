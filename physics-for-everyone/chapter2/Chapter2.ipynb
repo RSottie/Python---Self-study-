{
 "cells": [
  {
   "cell_type": "markdown",
   "id": "5050674b",
   "metadata": {},
   "source": [
    "# Variables, expressions, and statements\n"
   ]
  },
  {
   "cell_type": "code",
   "execution_count": null,
   "id": "00acd986",
   "metadata": {},
   "outputs": [],
   "source": [
    "# Values and Types\n",
    "# Values: One of the basic things a program works with eg: 1, \"Hello world!\", etc"
   ]
  },
  {
   "cell_type": "code",
   "execution_count": 7,
   "id": "07a17da6",
   "metadata": {},
   "outputs": [
    {
     "data": {
      "text/plain": [
       "int"
      ]
     },
     "execution_count": 7,
     "metadata": {},
     "output_type": "execute_result"
    }
   ],
   "source": [
    "# integer\n",
    "x = 2\n",
    "type (x)\n"
   ]
  },
  {
   "cell_type": "code",
   "execution_count": 6,
   "id": "7955a7bc",
   "metadata": {},
   "outputs": [
    {
     "data": {
      "text/plain": [
       "str"
      ]
     },
     "execution_count": 6,
     "metadata": {},
     "output_type": "execute_result"
    }
   ],
   "source": [
    "# string\n",
    "y = \"Hello world\"\n",
    "type(y)"
   ]
  },
  {
   "cell_type": "code",
   "execution_count": 9,
   "id": "40341a67",
   "metadata": {},
   "outputs": [
    {
     "data": {
      "text/plain": [
       "float"
      ]
     },
     "execution_count": 9,
     "metadata": {},
     "output_type": "execute_result"
    }
   ],
   "source": [
    "# float\n",
    "z = 2.1\n",
    "type(z)"
   ]
  },
  {
   "cell_type": "code",
   "execution_count": 10,
   "id": "1e2899f8",
   "metadata": {},
   "outputs": [
    {
     "data": {
      "text/plain": [
       "str"
      ]
     },
     "execution_count": 10,
     "metadata": {},
     "output_type": "execute_result"
    }
   ],
   "source": [
    "k = \"17\"\n",
    "type(k)"
   ]
  }
 ],
 "metadata": {
  "kernelspec": {
   "display_name": "Python 3 (ipykernel)",
   "language": "python",
   "name": "python3"
  },
  "language_info": {
   "codemirror_mode": {
    "name": "ipython",
    "version": 3
   },
   "file_extension": ".py",
   "mimetype": "text/x-python",
   "name": "python",
   "nbconvert_exporter": "python",
   "pygments_lexer": "ipython3",
   "version": "3.10.12"
  }
 },
 "nbformat": 4,
 "nbformat_minor": 5
}

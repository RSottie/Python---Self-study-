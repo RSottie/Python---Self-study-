{
 "cells": [
  {
   "cell_type": "markdown",
   "id": "7a33ff9c",
   "metadata": {},
   "source": [
    "# Conditional execution\n"
   ]
  },
  {
   "cell_type": "markdown",
   "id": "c7f83fe3",
   "metadata": {},
   "source": [
    "# Boolean expressions\n",
    "A boolean expression is an expression that is either true or false. The following\n",
    "examples use the operator ==, which compares two operands and produces True if\n",
    "they are equal and False otherwise:\n"
   ]
  },
  {
   "cell_type": "code",
   "execution_count": 1,
   "id": "2197ea63",
   "metadata": {},
   "outputs": [
    {
     "data": {
      "text/plain": [
       "True"
      ]
     },
     "execution_count": 1,
     "metadata": {},
     "output_type": "execute_result"
    }
   ],
   "source": [
    "5 == 5\n"
   ]
  },
  {
   "cell_type": "code",
   "execution_count": 2,
   "id": "a1df7e45",
   "metadata": {},
   "outputs": [
    {
     "data": {
      "text/plain": [
       "False"
      ]
     },
     "execution_count": 2,
     "metadata": {},
     "output_type": "execute_result"
    }
   ],
   "source": [
    "5 == 6"
   ]
  },
  {
   "cell_type": "code",
   "execution_count": 3,
   "id": "df4a02ab",
   "metadata": {},
   "outputs": [
    {
     "data": {
      "text/plain": [
       "bool"
      ]
     },
     "execution_count": 3,
     "metadata": {},
     "output_type": "execute_result"
    }
   ],
   "source": [
    "type(True)"
   ]
  },
  {
   "cell_type": "code",
   "execution_count": 4,
   "id": "d7f436bc",
   "metadata": {},
   "outputs": [
    {
     "data": {
      "text/plain": [
       "bool"
      ]
     },
     "execution_count": 4,
     "metadata": {},
     "output_type": "execute_result"
    }
   ],
   "source": [
    "type(False)"
   ]
  },
  {
   "cell_type": "markdown",
   "id": "00d0214f",
   "metadata": {},
   "source": [
    "The == operator is one of the comparison operators; the others are:\n",
    "x != y # x is not equal to y\n",
    "x > y # x is greater than y\n",
    "x < y # x is less than y\n",
    "x >= y # x is greater than or equal to y\n",
    "x <= y # x is less than or equal to y\n",
    "x is y # x is the same as y\n",
    "x is not y # x is not the same as y"
   ]
  },
  {
   "cell_type": "code",
   "execution_count": 5,
   "id": "77df2889",
   "metadata": {},
   "outputs": [
    {
     "data": {
      "text/plain": [
       "True"
      ]
     },
     "execution_count": 5,
     "metadata": {},
     "output_type": "execute_result"
    }
   ],
   "source": [
    "num1 = 5\n",
    "num2 = 5\n",
    "\n",
    "num1 is num2"
   ]
  },
  {
   "cell_type": "code",
   "execution_count": null,
   "id": "85f9dbe8",
   "metadata": {},
   "outputs": [],
   "source": []
  },
  {
   "cell_type": "markdown",
   "id": "ffa6e9d6",
   "metadata": {},
   "source": [
    "# Logical operators\n",
    "There are three logical operators: and, or, and not. The semantics (meaning) of\n",
    "these operators is similar to their meaning in English."
   ]
  },
  {
   "cell_type": "code",
   "execution_count": 6,
   "id": "544f0a41",
   "metadata": {},
   "outputs": [
    {
     "data": {
      "text/plain": [
       "True"
      ]
     },
     "execution_count": 6,
     "metadata": {},
     "output_type": "execute_result"
    }
   ],
   "source": [
    "x = 5\n",
    "\n",
    "x > 0 and x < 10"
   ]
  },
  {
   "cell_type": "code",
   "execution_count": 7,
   "id": "92baaa18",
   "metadata": {},
   "outputs": [
    {
     "data": {
      "text/plain": [
       "True"
      ]
     },
     "execution_count": 7,
     "metadata": {},
     "output_type": "execute_result"
    }
   ],
   "source": [
    "x = 5\n",
    "\n",
    "x > 0 or x < 10"
   ]
  },
  {
   "cell_type": "code",
   "execution_count": 10,
   "id": "d61227f8",
   "metadata": {},
   "outputs": [
    {
     "data": {
      "text/plain": [
       "False"
      ]
     },
     "execution_count": 10,
     "metadata": {},
     "output_type": "execute_result"
    }
   ],
   "source": [
    "x = 5\n",
    "\n",
    "x > 0 and not x < 10"
   ]
  },
  {
   "cell_type": "markdown",
   "id": "93996afd",
   "metadata": {},
   "source": [
    "Conditional execution\n"
   ]
  },
  {
   "cell_type": "markdown",
   "id": "4adc93b2",
   "metadata": {},
   "source": [
    "# if statement\n",
    "\n",
    "x > 0 -> condition\n",
    "We end the if statement with a colon character (:) and the line(s) after the if statement are indented.\n",
    "If the logical condition is true, then the indented statement gets executed. If the logical condition is false, the indented statement is skipped.\n",
    "if statements have the same structure as function definitions or for loops.\n"
   ]
  },
  {
   "cell_type": "code",
   "execution_count": 11,
   "id": "c5081729",
   "metadata": {},
   "outputs": [
    {
     "name": "stdout",
     "output_type": "stream",
     "text": [
      "x is positive\n"
     ]
    }
   ],
   "source": [
    "if x > 0 :\n",
    "    print(\"x is positive\")\n"
   ]
  },
  {
   "cell_type": "markdown",
   "id": "859d6d49",
   "metadata": {},
   "source": [
    "\n",
    "There is no limit on the number of statements that can appear in the body, but there must be at least one. \n",
    "Occasionally, it is useful to have a body with no statements (usually as a place holder for code you haven’t written yet). In that case, you can use the pass statement, which does nothing.\n"
   ]
  },
  {
   "cell_type": "code",
   "execution_count": 14,
   "id": "3e287aef",
   "metadata": {},
   "outputs": [],
   "source": [
    "\n",
    "if x < 0:\n",
    "    pass"
   ]
  },
  {
   "cell_type": "code",
   "execution_count": null,
   "id": "afbd9ff6",
   "metadata": {},
   "outputs": [],
   "source": []
  },
  {
   "cell_type": "markdown",
   "id": "de07e205",
   "metadata": {},
   "source": [
    "#  Alternative execution"
   ]
  },
  {
   "cell_type": "code",
   "execution_count": 15,
   "id": "a7372292",
   "metadata": {},
   "outputs": [
    {
     "name": "stdout",
     "output_type": "stream",
     "text": [
      "x is odd\n"
     ]
    }
   ],
   "source": [
    "if x%2 == 0:\n",
    "    print(\"x is even\")\n",
    "else:\n",
    "    print('x is odd')"
   ]
  },
  {
   "cell_type": "code",
   "execution_count": null,
   "id": "34e980b9",
   "metadata": {},
   "outputs": [],
   "source": []
  },
  {
   "cell_type": "markdown",
   "id": "323b7902",
   "metadata": {},
   "source": [
    "#  Chained conditionals\n",
    "elif\n",
    "elif is an abbreviation of “else if.”\n"
   ]
  },
  {
   "cell_type": "code",
   "execution_count": 16,
   "id": "3de040d3",
   "metadata": {},
   "outputs": [
    {
     "name": "stdout",
     "output_type": "stream",
     "text": [
      "x is greater than y\n"
     ]
    }
   ],
   "source": [
    "x = 5\n",
    "y = 3\n",
    "\n",
    "if x < y:\n",
    "    print(\"x is less tyhan y\")\n",
    "elif x > y:\n",
    "    print(\"x is greater than y\")\n",
    "else:\n",
    "    print(\"x and y are equal\")"
   ]
  },
  {
   "cell_type": "markdown",
   "id": "0f04f0f4",
   "metadata": {},
   "source": [
    "There is no limit on the number of elif statements. If there is an else clause, it\n",
    "has to be at the end, but there doesn’t have to be one."
   ]
  },
  {
   "cell_type": "code",
   "execution_count": 19,
   "id": "0f6ad62a",
   "metadata": {},
   "outputs": [
    {
     "name": "stdout",
     "output_type": "stream",
     "text": [
      "x is greater than y\n"
     ]
    }
   ],
   "source": [
    "x = 5\n",
    "y = 3\n",
    "\n",
    "if x < y:\n",
    "    print(\"x is less tyhan y\")\n",
    "elif x > y:\n",
    "    print(\"x is greater than y\")\n",
    "elif x == y:\n",
    "     print(\"x and y are equal\")"
   ]
  },
  {
   "cell_type": "code",
   "execution_count": null,
   "id": "3b8c1fd3",
   "metadata": {},
   "outputs": [],
   "source": []
  },
  {
   "cell_type": "markdown",
   "id": "db4de0b9",
   "metadata": {},
   "source": [
    "# Nested conditional\n",
    "\n",
    "One conditional can also be nested within another. We could have written the\n",
    "three-branch example like this"
   ]
  },
  {
   "cell_type": "code",
   "execution_count": 21,
   "id": "32434ce1",
   "metadata": {},
   "outputs": [
    {
     "name": "stdout",
     "output_type": "stream",
     "text": [
      "x is greater than y\n"
     ]
    }
   ],
   "source": [
    "if x == y:\n",
    "    print(\"x and y are equal\")\n",
    "else:\n",
    "    if x < y:\n",
    "        print(\" x is less than y\")\n",
    "    else:\n",
    "        print(\"x is greater than y\")"
   ]
  }
 ],
 "metadata": {
  "kernelspec": {
   "display_name": "Python 3 (ipykernel)",
   "language": "python",
   "name": "python3"
  },
  "language_info": {
   "codemirror_mode": {
    "name": "ipython",
    "version": 3
   },
   "file_extension": ".py",
   "mimetype": "text/x-python",
   "name": "python",
   "nbconvert_exporter": "python",
   "pygments_lexer": "ipython3",
   "version": "3.10.12"
  }
 },
 "nbformat": 4,
 "nbformat_minor": 5
}

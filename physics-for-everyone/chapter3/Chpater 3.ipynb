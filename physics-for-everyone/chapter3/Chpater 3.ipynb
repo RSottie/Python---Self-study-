{
 "cells": [
  {
   "cell_type": "markdown",
   "id": "e7dc9a6a",
   "metadata": {},
   "source": [
    "# Conditional execution\n"
   ]
  },
  {
   "cell_type": "markdown",
   "id": "f6f680c8",
   "metadata": {},
   "source": [
    "# Boolean expressions\n",
    "A boolean expression is an expression that is either true or false. The following\n",
    "examples use the operator ==, which compares two operands and produces True if\n",
    "they are equal and False otherwise:\n"
   ]
  },
  {
   "cell_type": "code",
   "execution_count": 1,
   "id": "f8a49375",
   "metadata": {},
   "outputs": [
    {
     "data": {
      "text/plain": [
       "True"
      ]
     },
     "execution_count": 1,
     "metadata": {},
     "output_type": "execute_result"
    }
   ],
   "source": [
    "5 == 5\n"
   ]
  },
  {
   "cell_type": "code",
   "execution_count": 2,
   "id": "0f2a0795",
   "metadata": {},
   "outputs": [
    {
     "data": {
      "text/plain": [
       "False"
      ]
     },
     "execution_count": 2,
     "metadata": {},
     "output_type": "execute_result"
    }
   ],
   "source": [
    "5 == 6"
   ]
  },
  {
   "cell_type": "code",
   "execution_count": 3,
   "id": "98800d5e",
   "metadata": {},
   "outputs": [
    {
     "data": {
      "text/plain": [
       "bool"
      ]
     },
     "execution_count": 3,
     "metadata": {},
     "output_type": "execute_result"
    }
   ],
   "source": [
    "type(True)"
   ]
  },
  {
   "cell_type": "code",
   "execution_count": 4,
   "id": "b6972cbf",
   "metadata": {},
   "outputs": [
    {
     "data": {
      "text/plain": [
       "bool"
      ]
     },
     "execution_count": 4,
     "metadata": {},
     "output_type": "execute_result"
    }
   ],
   "source": [
    "type(False)"
   ]
  },
  {
   "cell_type": "markdown",
   "id": "cd3a5b0c",
   "metadata": {},
   "source": [
    "The == operator is one of the comparison operators; the others are:\n",
    "x != y # x is not equal to y\n",
    "x > y # x is greater than y\n",
    "x < y # x is less than y\n",
    "x >= y # x is greater than or equal to y\n",
    "x <= y # x is less than or equal to y\n",
    "x is y # x is the same as y\n",
    "x is not y # x is not the same as y"
   ]
  },
  {
   "cell_type": "code",
   "execution_count": 5,
   "id": "a87bcab7",
   "metadata": {},
   "outputs": [
    {
     "data": {
      "text/plain": [
       "True"
      ]
     },
     "execution_count": 5,
     "metadata": {},
     "output_type": "execute_result"
    }
   ],
   "source": [
    "num1 = 5\n",
    "num2 = 5\n",
    "\n",
    "num1 is num2"
   ]
  },
  {
   "cell_type": "code",
   "execution_count": null,
   "id": "d4d5688e",
   "metadata": {},
   "outputs": [],
   "source": []
  },
  {
   "cell_type": "markdown",
   "id": "76579708",
   "metadata": {},
   "source": [
    "# Logical operators\n",
    "There are three logical operators: and, or, and not. The semantics (meaning) of\n",
    "these operators is similar to their meaning in English."
   ]
  },
  {
   "cell_type": "code",
   "execution_count": 6,
   "id": "e8de293d",
   "metadata": {},
   "outputs": [
    {
     "data": {
      "text/plain": [
       "True"
      ]
     },
     "execution_count": 6,
     "metadata": {},
     "output_type": "execute_result"
    }
   ],
   "source": [
    "x = 5\n",
    "\n",
    "x > 0 and x < 10"
   ]
  },
  {
   "cell_type": "code",
   "execution_count": 7,
   "id": "c5b1ffd8",
   "metadata": {},
   "outputs": [
    {
     "data": {
      "text/plain": [
       "True"
      ]
     },
     "execution_count": 7,
     "metadata": {},
     "output_type": "execute_result"
    }
   ],
   "source": [
    "x = 5\n",
    "\n",
    "x > 0 or x < 10"
   ]
  },
  {
   "cell_type": "code",
   "execution_count": 10,
   "id": "3ebfdfb7",
   "metadata": {},
   "outputs": [
    {
     "data": {
      "text/plain": [
       "False"
      ]
     },
     "execution_count": 10,
     "metadata": {},
     "output_type": "execute_result"
    }
   ],
   "source": [
    "x = 5\n",
    "\n",
    "x > 0 and not x < 10"
   ]
  },
  {
   "cell_type": "markdown",
   "id": "e3a7b77d",
   "metadata": {},
   "source": [
    "Conditional execution\n"
   ]
  },
  {
   "cell_type": "markdown",
   "id": "7198635a",
   "metadata": {},
   "source": [
    "# if statement\n",
    "\n",
    "x > 0 -> condition\n",
    "We end the if statement with a colon character (:) and the line(s) after the if statement are indented.\n",
    "If the logical condition is true, then the indented statement gets executed. If the logical condition is false, the indented statement is skipped.\n",
    "if statements have the same structure as function definitions or for loops.\n"
   ]
  },
  {
   "cell_type": "code",
   "execution_count": 11,
   "id": "8e080de9",
   "metadata": {},
   "outputs": [
    {
     "name": "stdout",
     "output_type": "stream",
     "text": [
      "x is positive\n"
     ]
    }
   ],
   "source": [
    "if x > 0 :\n",
    "    print(\"x is positive\")\n"
   ]
  },
  {
   "cell_type": "markdown",
   "id": "664cf014",
   "metadata": {},
   "source": [
    "\n",
    "There is no limit on the number of statements that can appear in the body, but there must be at least one. \n",
    "Occasionally, it is useful to have a body with no statements (usually as a place holder for code you haven’t written yet). In that case, you can use the pass statement, which does nothing.\n"
   ]
  },
  {
   "cell_type": "code",
   "execution_count": 14,
   "id": "67035379",
   "metadata": {},
   "outputs": [],
   "source": [
    "\n",
    "if x < 0:\n",
    "    pass"
   ]
  },
  {
   "cell_type": "code",
   "execution_count": null,
   "id": "0375c33c",
   "metadata": {},
   "outputs": [],
   "source": []
  },
  {
   "cell_type": "markdown",
   "id": "9b340b96",
   "metadata": {},
   "source": [
    "#  Alternative execution"
   ]
  },
  {
   "cell_type": "code",
   "execution_count": 15,
   "id": "526b0ccd",
   "metadata": {},
   "outputs": [
    {
     "name": "stdout",
     "output_type": "stream",
     "text": [
      "x is odd\n"
     ]
    }
   ],
   "source": [
    "if x%2 == 0:\n",
    "    print(\"x is even\")\n",
    "else:\n",
    "    print('x is odd')"
   ]
  },
  {
   "cell_type": "code",
   "execution_count": null,
   "id": "2837a1e7",
   "metadata": {},
   "outputs": [],
   "source": []
  },
  {
   "cell_type": "markdown",
   "id": "0f600ec7",
   "metadata": {},
   "source": [
    "#  Chained conditionals\n",
    "elif\n",
    "elif is an abbreviation of “else if.”\n"
   ]
  },
  {
   "cell_type": "code",
   "execution_count": 16,
   "id": "b68703af",
   "metadata": {},
   "outputs": [
    {
     "name": "stdout",
     "output_type": "stream",
     "text": [
      "x is greater than y\n"
     ]
    }
   ],
   "source": [
    "x = 5\n",
    "y = 3\n",
    "\n",
    "if x < y:\n",
    "    print(\"x is less tyhan y\")\n",
    "elif x > y:\n",
    "    print(\"x is greater than y\")\n",
    "else:\n",
    "    print(\"x and y are equal\")"
   ]
  },
  {
   "cell_type": "markdown",
   "id": "1dbceb9e",
   "metadata": {},
   "source": [
    "There is no limit on the number of elif statements. If there is an else clause, it\n",
    "has to be at the end, but there doesn’t have to be one."
   ]
  },
  {
   "cell_type": "code",
   "execution_count": 19,
   "id": "7999d0b0",
   "metadata": {},
   "outputs": [
    {
     "name": "stdout",
     "output_type": "stream",
     "text": [
      "x is greater than y\n"
     ]
    }
   ],
   "source": [
    "x = 5\n",
    "y = 3\n",
    "\n",
    "if x < y:\n",
    "    print(\"x is less tyhan y\")\n",
    "elif x > y:\n",
    "    print(\"x is greater than y\")\n",
    "elif x == y:\n",
    "     print(\"x and y are equal\")"
   ]
  },
  {
   "cell_type": "code",
   "execution_count": null,
   "id": "761099d7",
   "metadata": {},
   "outputs": [],
   "source": []
  },
  {
   "cell_type": "markdown",
   "id": "77d19292",
   "metadata": {},
   "source": [
    "# Nested conditional\n",
    "\n",
    "One conditional can also be nested within another. We could have written the\n",
    "three-branch example like this"
   ]
  },
  {
   "cell_type": "code",
   "execution_count": 28,
   "id": "5f94fbb1",
   "metadata": {},
   "outputs": [
    {
     "name": "stdout",
     "output_type": "stream",
     "text": [
      "x is greater than y\n"
     ]
    }
   ],
   "source": [
    "\n",
    "if x == y:\n",
    "    print(\"x and y are equal\")\n",
    "else:\n",
    "    if x < y:\n",
    "        print(\" x is less than y\")\n",
    "    else:\n",
    "        print(\"x is greater than y\")"
   ]
  },
  {
   "cell_type": "code",
   "execution_count": null,
   "id": "d645fb5d",
   "metadata": {},
   "outputs": [],
   "source": []
  },
  {
   "cell_type": "markdown",
   "id": "a13ff9ae",
   "metadata": {},
   "source": [
    "# Logical operators often provide a way to simplify nested conditional statemen"
   ]
  },
  {
   "cell_type": "code",
   "execution_count": 29,
   "id": "d3a39a61",
   "metadata": {},
   "outputs": [
    {
     "name": "stdout",
     "output_type": "stream",
     "text": [
      "x is a positive single-integer number.\n"
     ]
    }
   ],
   "source": [
    "if 0 < x:\n",
    "    if x < 10:\n",
    "        print(\"x is a positive single-integer number.\")"
   ]
  },
  {
   "cell_type": "code",
   "execution_count": 30,
   "id": "61666055",
   "metadata": {},
   "outputs": [
    {
     "name": "stdout",
     "output_type": "stream",
     "text": [
      "x is a positive single-integer number.\n"
     ]
    }
   ],
   "source": [
    "if 0 <x and x < 10:\n",
    "    print(\"x is a positive single-integer number.\")"
   ]
  },
  {
   "cell_type": "code",
   "execution_count": null,
   "id": "fe29b45f",
   "metadata": {},
   "outputs": [],
   "source": []
  },
  {
   "cell_type": "markdown",
   "id": "20543bab",
   "metadata": {},
   "source": [
    "# Catching exceptions using try and except"
   ]
  },
  {
   "cell_type": "code",
   "execution_count": 33,
   "id": "8595d47c",
   "metadata": {},
   "outputs": [
    {
     "name": "stdout",
     "output_type": "stream",
     "text": [
      "Enter Fahrenheit Temperature: kofi\n"
     ]
    },
    {
     "ename": "ValueError",
     "evalue": "could not convert string to float: 'kofi'",
     "output_type": "error",
     "traceback": [
      "\u001b[0;31m---------------------------------------------------------------------------\u001b[0m",
      "\u001b[0;31mValueError\u001b[0m                                Traceback (most recent call last)",
      "Cell \u001b[0;32mIn[33], line 2\u001b[0m\n\u001b[1;32m      1\u001b[0m inp \u001b[38;5;241m=\u001b[39m \u001b[38;5;28minput\u001b[39m(\u001b[38;5;124m'\u001b[39m\u001b[38;5;124mEnter Fahrenheit Temperature: \u001b[39m\u001b[38;5;124m'\u001b[39m)\n\u001b[0;32m----> 2\u001b[0m fahr \u001b[38;5;241m=\u001b[39m \u001b[38;5;28;43mfloat\u001b[39;49m\u001b[43m(\u001b[49m\u001b[43minp\u001b[49m\u001b[43m)\u001b[49m\n\u001b[1;32m      3\u001b[0m cel \u001b[38;5;241m=\u001b[39m (fahr \u001b[38;5;241m-\u001b[39m \u001b[38;5;241m32.0\u001b[39m) \u001b[38;5;241m*\u001b[39m \u001b[38;5;241m5.0\u001b[39m \u001b[38;5;241m/\u001b[39m \u001b[38;5;241m9.0\u001b[39m\n\u001b[1;32m      4\u001b[0m \u001b[38;5;28mprint\u001b[39m(cel)\n",
      "\u001b[0;31mValueError\u001b[0m: could not convert string to float: 'kofi'"
     ]
    }
   ],
   "source": [
    "# exmaple\n",
    "\n",
    "inp = input('Enter Fahrenheit Temperature: ')\n",
    "fahr = float(inp)\n",
    "cel = (fahr - 32.0) * 5.0 / 9.0\n",
    "print(cel)"
   ]
  },
  {
   "cell_type": "markdown",
   "id": "f9026ba1",
   "metadata": {},
   "source": [
    "There is a conditional execution structure built into Python to handle these types\n",
    "of expected and unexpected errors called “try / except”.\n",
    "\n",
    "The idea of try and except is that you know that some sequence of instruction(s) may have a problem\n",
    "and you want to add some statements to be executed if an error occurs. These\n",
    "extra statements (the except block) are ignored if there is no error."
   ]
  },
  {
   "cell_type": "code",
   "execution_count": null,
   "id": "56dbbaa7",
   "metadata": {},
   "outputs": [],
   "source": []
  },
  {
   "cell_type": "code",
   "execution_count": 36,
   "id": "9e458f3e",
   "metadata": {},
   "outputs": [
    {
     "name": "stdout",
     "output_type": "stream",
     "text": [
      "Enter Fahrenheit Temperature: hey\n",
      "Please enter a number\n"
     ]
    }
   ],
   "source": [
    "inp = input('Enter Fahrenheit Temperature: ')\n",
    "\n",
    "try:\n",
    "    fahr = float(inp)\n",
    "    cel = (fahr - 32.0) * 5.0 / 9.0\n",
    "    print(cel)\n",
    "    \n",
    "except:\n",
    "    print(\"Please enter a number\")"
   ]
  },
  {
   "cell_type": "markdown",
   "id": "a91c53d8",
   "metadata": {},
   "source": [
    "Python starts by executing the sequence of statements in the try block. If all goes\n",
    "well, it skips the except block and proceeds. If an exception occurs in the try\n",
    "block, Python jumps out of the try block and executes the sequence of statements\n",
    "in the except block."
   ]
  },
  {
   "cell_type": "code",
   "execution_count": null,
   "id": "dcd0beb1",
   "metadata": {},
   "outputs": [],
   "source": []
  },
  {
   "cell_type": "markdown",
   "id": "fa34e118",
   "metadata": {},
   "source": [
    "# Short-circuit evaluation of logical expressions\n",
    " When the evaluation of a logical expression stops because the overall value is already known, it is called short-circuiting the evaluation.\n",
    " \n",
    "While this may seem like a fine point, the short-circuit behavior leads to a clever\n",
    "technique called the guardian pattern."
   ]
  },
  {
   "cell_type": "code",
   "execution_count": 37,
   "id": "33c8ac4a",
   "metadata": {},
   "outputs": [
    {
     "data": {
      "text/plain": [
       "True"
      ]
     },
     "execution_count": 37,
     "metadata": {},
     "output_type": "execute_result"
    }
   ],
   "source": [
    "x = 6\n",
    "y = 2\n",
    "\n",
    "x >= 2 and (x/y) > 2\n"
   ]
  },
  {
   "cell_type": "code",
   "execution_count": 38,
   "id": "585e79a9",
   "metadata": {},
   "outputs": [
    {
     "data": {
      "text/plain": [
       "False"
      ]
     },
     "execution_count": 38,
     "metadata": {},
     "output_type": "execute_result"
    }
   ],
   "source": [
    "x = 1\n",
    "y = 0\n",
    "\n",
    "x >= 2 and (x/y) > 2\n"
   ]
  },
  {
   "cell_type": "code",
   "execution_count": 39,
   "id": "049ee5b0",
   "metadata": {},
   "outputs": [
    {
     "ename": "ZeroDivisionError",
     "evalue": "division by zero",
     "output_type": "error",
     "traceback": [
      "\u001b[0;31m---------------------------------------------------------------------------\u001b[0m",
      "\u001b[0;31mZeroDivisionError\u001b[0m                         Traceback (most recent call last)",
      "Cell \u001b[0;32mIn[39], line 4\u001b[0m\n\u001b[1;32m      1\u001b[0m x \u001b[38;5;241m=\u001b[39m \u001b[38;5;241m6\u001b[39m\n\u001b[1;32m      2\u001b[0m y \u001b[38;5;241m=\u001b[39m \u001b[38;5;241m0\u001b[39m\n\u001b[0;32m----> 4\u001b[0m x \u001b[38;5;241m>\u001b[39m\u001b[38;5;241m=\u001b[39m \u001b[38;5;241m2\u001b[39m \u001b[38;5;129;01mand\u001b[39;00m (\u001b[43mx\u001b[49m\u001b[38;5;241;43m/\u001b[39;49m\u001b[43my\u001b[49m) \u001b[38;5;241m>\u001b[39m \u001b[38;5;241m2\u001b[39m\n",
      "\u001b[0;31mZeroDivisionError\u001b[0m: division by zero"
     ]
    }
   ],
   "source": [
    "x = 6\n",
    "y = 0\n",
    "\n",
    "x >= 2 and (x/y) > 2\n"
   ]
  },
  {
   "cell_type": "markdown",
   "id": "441f22be",
   "metadata": {},
   "source": [
    "The third calculation failed because Python was evaluating (x/y) and y was zero,\n",
    "which causes a runtime error.\n",
    "\n",
    "But the first and the second examples did not fail because in the first calculation y was non zero and in \n",
    "the second one the first part of these expressions x >= 2 evaluated to False so the (x/y) was not ever executed\n",
    "due to the short-circuit rule and there was no error."
   ]
  },
  {
   "cell_type": "markdown",
   "id": "156793ea",
   "metadata": {},
   "source": [
    "We can construct the logical expression to strategically place a guard evaluation\n",
    "just before the evaluation that might cause an error as follows:\n"
   ]
  },
  {
   "cell_type": "code",
   "execution_count": 40,
   "id": "08665a34",
   "metadata": {},
   "outputs": [
    {
     "data": {
      "text/plain": [
       "False"
      ]
     },
     "execution_count": 40,
     "metadata": {},
     "output_type": "execute_result"
    }
   ],
   "source": [
    "# Example\n",
    "\n",
    "x = 1\n",
    "y = 0\n",
    "\n",
    "x >= 2 and y != 0 and (x/y) > 2"
   ]
  },
  {
   "cell_type": "code",
   "execution_count": 45,
   "id": "cb022c9b",
   "metadata": {},
   "outputs": [
    {
     "data": {
      "text/plain": [
       "False"
      ]
     },
     "execution_count": 45,
     "metadata": {},
     "output_type": "execute_result"
    }
   ],
   "source": [
    "x = 6\n",
    "y = 0\n",
    "\n",
    "x >= 2 and y !=0 and (x/y) > 2"
   ]
  },
  {
   "cell_type": "code",
   "execution_count": 43,
   "id": "ce0a239a",
   "metadata": {},
   "outputs": [
    {
     "ename": "ZeroDivisionError",
     "evalue": "division by zero",
     "output_type": "error",
     "traceback": [
      "\u001b[0;31m---------------------------------------------------------------------------\u001b[0m",
      "\u001b[0;31mZeroDivisionError\u001b[0m                         Traceback (most recent call last)",
      "Cell \u001b[0;32mIn[43], line 4\u001b[0m\n\u001b[1;32m      1\u001b[0m x \u001b[38;5;241m=\u001b[39m \u001b[38;5;241m6\u001b[39m\n\u001b[1;32m      2\u001b[0m y \u001b[38;5;241m=\u001b[39m \u001b[38;5;241m0\u001b[39m\n\u001b[0;32m----> 4\u001b[0m x \u001b[38;5;241m>\u001b[39m\u001b[38;5;241m=\u001b[39m \u001b[38;5;241m2\u001b[39m \u001b[38;5;129;01mand\u001b[39;00m (\u001b[43mx\u001b[49m\u001b[38;5;241;43m/\u001b[39;49m\u001b[43my\u001b[49m) \u001b[38;5;241m>\u001b[39m \u001b[38;5;241m2\u001b[39m \u001b[38;5;129;01mand\u001b[39;00m y \u001b[38;5;241m!=\u001b[39m\u001b[38;5;241m0\u001b[39m \n",
      "\u001b[0;31mZeroDivisionError\u001b[0m: division by zero"
     ]
    }
   ],
   "source": [
    "x = 6\n",
    "y = 0\n",
    "\n",
    "x >= 2 and (x/y) > 2 and y !=0 "
   ]
  },
  {
   "cell_type": "markdown",
   "id": "7111905b",
   "metadata": {},
   "source": [
    "In the third logical expression, the y != 0 is after the (x/y) calculation so the\n",
    "expression fails with an error.\n"
   ]
  },
  {
   "cell_type": "code",
   "execution_count": null,
   "id": "270d4833",
   "metadata": {},
   "outputs": [],
   "source": []
  },
  {
   "cell_type": "markdown",
   "id": "37cf8f00",
   "metadata": {},
   "source": [
    "# EXercise 1\n",
    "Rewrite your pay computation to give the employee 1.5 times the hourly rate for hours worked above 40 hours."
   ]
  },
  {
   "cell_type": "code",
   "execution_count": 56,
   "id": "cb5b5a17",
   "metadata": {},
   "outputs": [
    {
     "name": "stdout",
     "output_type": "stream",
     "text": [
      "Enter Hours: 45\n",
      "Enter Rate: 10\n",
      "Pay: 475.0\n"
     ]
    }
   ],
   "source": [
    "Hours = float(input(\"Enter Hours: \"))\n",
    "Rate = float(input(\"Enter Rate: \"))\n",
    "\n",
    "\n",
    "if Hours <= 40:\n",
    "    pay = Hours*Rate\n",
    "    print(f\"Pay: {pay}\")\n",
    "    \n",
    "else:\n",
    "    Hours2 = abs(40-Hours)\n",
    "    pay = 40*Rate + Hours2*Rate*1.5\n",
    "    print(f\"Pay: {pay}\")\n",
    "   "
   ]
  },
  {
   "cell_type": "code",
   "execution_count": null,
   "id": "5fefde0c",
   "metadata": {},
   "outputs": [],
   "source": []
  },
  {
   "cell_type": "markdown",
   "id": "8962db74",
   "metadata": {},
   "source": [
    "# Exercise 2\n",
    "Rewrite your pay program using try and except so that your program handles non-numeric input gracefully by printing a message and exiting the program."
   ]
  },
  {
   "cell_type": "code",
   "execution_count": 63,
   "id": "e00040c2",
   "metadata": {},
   "outputs": [
    {
     "name": "stdout",
     "output_type": "stream",
     "text": [
      "Enter Hours: gedbhsdcf;,wsragb\n",
      "Please enter numerical values\n"
     ]
    }
   ],
   "source": [
    "try:\n",
    "    Hours = float(input(\"Enter Hours: \"))\n",
    "    Rate = float(input(\"Enter Rate: \"))\n",
    "    if Hours <= 40:\n",
    "        pay = Hours*Rate\n",
    "        print(f\"Pay: {pay}\")\n",
    "    \n",
    "    else:\n",
    "        Hours2 = abs(40-Hours)\n",
    "        pay = 40*Rate + Hours2*Rate*1.5\n",
    "        print(f\"Pay: {pay}\")\n",
    "        \n",
    "except:\n",
    "    print(\"Please enter numerical values\")"
   ]
  },
  {
   "cell_type": "markdown",
   "id": "3c070db4",
   "metadata": {},
   "source": [
    "# Exercise 3: \n",
    "Write a program to prompt for a score between 0.0 and 1.0. If the score is out of range, print an error message. If the score is between 0.0 and 1.0, print a grade using the following table:"
   ]
  },
  {
   "cell_type": "code",
   "execution_count": 81,
   "id": "47496449",
   "metadata": {},
   "outputs": [
    {
     "name": "stdout",
     "output_type": "stream",
     "text": [
      "Enter score:0.999999\n",
      "A\n"
     ]
    }
   ],
   "source": [
    "score = float(input(\"Enter score:\"))\n",
    "\n",
    "if 0.0 <= score <= 1.0:\n",
    "    if score >= 0.9 :\n",
    "        print(\"A\")\n",
    "    \n",
    "    elif score >= 0.8:\n",
    "        print(\"B\")\n",
    "    \n",
    "    elif score >= 0.7:\n",
    "        print(\"C\")\n",
    "    \n",
    "    elif score >= 0.6:\n",
    "        print(\"D\")\n",
    "        \n",
    "    else:\n",
    "        print(\"F\")\n",
    "        \n",
    "else:\n",
    "    print(\"Bad score\")"
   ]
  },
  {
   "cell_type": "code",
   "execution_count": null,
   "id": "0002e6a2",
   "metadata": {},
   "outputs": [],
   "source": []
  },
  {
   "cell_type": "code",
   "execution_count": null,
   "id": "f9bbf630",
   "metadata": {},
   "outputs": [],
   "source": []
  },
  {
   "cell_type": "code",
   "execution_count": null,
   "id": "ae244a3a",
   "metadata": {},
   "outputs": [],
   "source": []
  },
  {
   "cell_type": "code",
   "execution_count": null,
   "id": "ad50f9c0",
   "metadata": {},
   "outputs": [],
   "source": []
  },
  {
   "cell_type": "code",
   "execution_count": null,
   "id": "d5b9db2b",
   "metadata": {},
   "outputs": [],
   "source": []
  },
  {
   "cell_type": "code",
   "execution_count": null,
   "id": "2e5805a1",
   "metadata": {},
   "outputs": [],
   "source": []
  },
  {
   "cell_type": "code",
   "execution_count": null,
   "id": "afbc30ea",
   "metadata": {},
   "outputs": [],
   "source": []
  },
  {
   "cell_type": "code",
   "execution_count": null,
   "id": "ff18effe",
   "metadata": {},
   "outputs": [],
   "source": []
  },
  {
   "cell_type": "code",
   "execution_count": null,
   "id": "a88fe8f3",
   "metadata": {},
   "outputs": [],
   "source": []
  },
  {
   "cell_type": "code",
   "execution_count": null,
   "id": "fb0d0577",
   "metadata": {},
   "outputs": [],
   "source": []
  }
 ],
 "metadata": {
  "kernelspec": {
   "display_name": "Python 3 (ipykernel)",
   "language": "python",
   "name": "python3"
  },
  "language_info": {
   "codemirror_mode": {
    "name": "ipython",
    "version": 3
   },
   "file_extension": ".py",
   "mimetype": "text/x-python",
   "name": "python",
   "nbconvert_exporter": "python",
   "pygments_lexer": "ipython3",
   "version": "3.10.12"
  }
 },
 "nbformat": 4,
 "nbformat_minor": 5
}

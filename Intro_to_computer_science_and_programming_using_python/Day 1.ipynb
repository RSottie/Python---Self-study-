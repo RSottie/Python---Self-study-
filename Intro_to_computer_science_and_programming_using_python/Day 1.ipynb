{
 "cells": [
  {
   "cell_type": "code",
   "execution_count": 10,
   "id": "291b91f6",
   "metadata": {},
   "outputs": [
    {
     "data": {
      "text/plain": [
       "3.3333333333333335"
      ]
     },
     "execution_count": 10,
     "metadata": {},
     "output_type": "execute_result"
    }
   ],
   "source": [
    "10/3"
   ]
  },
  {
   "cell_type": "code",
   "execution_count": 11,
   "id": "83edd386",
   "metadata": {},
   "outputs": [
    {
     "data": {
      "text/plain": [
       "3.14159"
      ]
     },
     "execution_count": 11,
     "metadata": {},
     "output_type": "execute_result"
    }
   ],
   "source": [
    "# Assignment\n",
    "pi = 3.14159\n",
    "pi\n"
   ]
  },
  {
   "cell_type": "code",
   "execution_count": 12,
   "id": "fc0edd40",
   "metadata": {},
   "outputs": [
    {
     "name": "stdout",
     "output_type": "stream",
     "text": [
      "3.142857142857143\n"
     ]
    }
   ],
   "source": [
    "pi_approx = 22/7\n",
    "print(pi_approx)"
   ]
  },
  {
   "cell_type": "code",
   "execution_count": 13,
   "id": "b6f42927",
   "metadata": {},
   "outputs": [
    {
     "data": {
      "text/plain": [
       "5.0"
      ]
     },
     "execution_count": 13,
     "metadata": {},
     "output_type": "execute_result"
    }
   ],
   "source": [
    "3+2.0"
   ]
  },
  {
   "cell_type": "code",
   "execution_count": 14,
   "id": "2edbec34",
   "metadata": {},
   "outputs": [
    {
     "data": {
      "text/plain": [
       "False"
      ]
     },
     "execution_count": 14,
     "metadata": {},
     "output_type": "execute_result"
    }
   ],
   "source": [
    "4>4"
   ]
  },
  {
   "cell_type": "code",
   "execution_count": 15,
   "id": "93b4597b",
   "metadata": {},
   "outputs": [
    {
     "data": {
      "text/plain": [
       "True"
      ]
     },
     "execution_count": 15,
     "metadata": {},
     "output_type": "execute_result"
    }
   ],
   "source": [
    "4.0>3.999"
   ]
  },
  {
   "cell_type": "code",
   "execution_count": 17,
   "id": "c0dd818f",
   "metadata": {},
   "outputs": [
    {
     "data": {
      "text/plain": [
       "True"
      ]
     },
     "execution_count": 17,
     "metadata": {},
     "output_type": "execute_result"
    }
   ],
   "source": [
    "True or False"
   ]
  },
  {
   "cell_type": "code",
   "execution_count": null,
   "id": "6e0daae9",
   "metadata": {},
   "outputs": [],
   "source": []
  },
  {
   "cell_type": "code",
   "execution_count": 21,
   "id": "62d814c2",
   "metadata": {},
   "outputs": [
    {
     "name": "stdout",
     "output_type": "stream",
     "text": [
      "False\n"
     ]
    },
    {
     "data": {
      "text/plain": [
       "3"
      ]
     },
     "execution_count": 21,
     "metadata": {},
     "output_type": "execute_result"
    }
   ],
   "source": [
    ">>> a = 3\n",
    ">>> print(a == 5.0)\n",
    ">>> a \n"
   ]
  },
  {
   "cell_type": "code",
   "execution_count": 19,
   "id": "888cb1c2",
   "metadata": {},
   "outputs": [
    {
     "data": {
      "text/plain": [
       "True"
      ]
     },
     "execution_count": 19,
     "metadata": {},
     "output_type": "execute_result"
    }
   ],
   "source": [
    ">>> b = 10\n",
    ">>> c = b > 9\n",
    ">>> c "
   ]
  },
  {
   "cell_type": "code",
   "execution_count": 22,
   "id": "85cc9a1e",
   "metadata": {
    "scrolled": true
   },
   "outputs": [
    {
     "data": {
      "text/plain": [
       "8.0"
      ]
     },
     "execution_count": 22,
     "metadata": {},
     "output_type": "execute_result"
    }
   ],
   "source": [
    "3 + 5.0"
   ]
  },
  {
   "cell_type": "code",
   "execution_count": 23,
   "id": "24f06b4b",
   "metadata": {},
   "outputs": [
    {
     "data": {
      "text/plain": [
       "True"
      ]
     },
     "execution_count": 23,
     "metadata": {},
     "output_type": "execute_result"
    }
   ],
   "source": [
    "5/2 == 5/2.0"
   ]
  },
  {
   "cell_type": "code",
   "execution_count": 25,
   "id": "25f8d2cc",
   "metadata": {},
   "outputs": [
    {
     "data": {
      "text/plain": [
       "2.5"
      ]
     },
     "execution_count": 25,
     "metadata": {},
     "output_type": "execute_result"
    }
   ],
   "source": [
    "5/2.0"
   ]
  },
  {
   "cell_type": "code",
   "execution_count": 29,
   "id": "d27136fc",
   "metadata": {},
   "outputs": [
    {
     "data": {
      "text/plain": [
       "3"
      ]
     },
     "execution_count": 29,
     "metadata": {},
     "output_type": "execute_result"
    }
   ],
   "source": [
    "round(2.6)"
   ]
  },
  {
   "cell_type": "code",
   "execution_count": 30,
   "id": "364f8a63",
   "metadata": {},
   "outputs": [
    {
     "data": {
      "text/plain": [
       "True"
      ]
     },
     "execution_count": 30,
     "metadata": {},
     "output_type": "execute_result"
    }
   ],
   "source": [
    "# In Python, the equality comparison is not strict about the data type if the values are numerically equivalent.\n",
    "5*2 == 5.0 * 2.0"
   ]
  },
  {
   "cell_type": "code",
   "execution_count": 35,
   "id": "64f79737",
   "metadata": {},
   "outputs": [
    {
     "data": {
      "text/plain": [
       "1"
      ]
     },
     "execution_count": 35,
     "metadata": {},
     "output_type": "execute_result"
    }
   ],
   "source": [
    "# swapping variables\n",
    "x = 1\n",
    "y = 2\n",
    "temp = y\n",
    "\n",
    "y = x\n",
    "x = temp\n",
    "\n",
    "y\n"
   ]
  },
  {
   "cell_type": "code",
   "execution_count": null,
   "id": "e0a36b6a",
   "metadata": {},
   "outputs": [],
   "source": []
  },
  {
   "cell_type": "code",
   "execution_count": null,
   "id": "aafb9452",
   "metadata": {},
   "outputs": [],
   "source": [
    "s = 'azcbobobegghakl'\n",
    "\n",
    "while s[n] == \"a\" "
   ]
  },
  {
   "cell_type": "code",
   "execution_count": null,
   "id": "497fcc27",
   "metadata": {},
   "outputs": [],
   "source": []
  },
  {
   "cell_type": "code",
   "execution_count": 36,
   "id": "c183b424",
   "metadata": {},
   "outputs": [
    {
     "data": {
      "text/plain": [
       "'e'"
      ]
     },
     "execution_count": 36,
     "metadata": {},
     "output_type": "execute_result"
    }
   ],
   "source": [
    "\"eric\"[0]"
   ]
  },
  {
   "cell_type": "code",
   "execution_count": 37,
   "id": "177da0b8",
   "metadata": {},
   "outputs": [
    {
     "data": {
      "text/plain": [
       "4"
      ]
     },
     "execution_count": 37,
     "metadata": {},
     "output_type": "execute_result"
    }
   ],
   "source": [
    "len(\"eric\")"
   ]
  },
  {
   "cell_type": "code",
   "execution_count": 38,
   "id": "1bc2669d",
   "metadata": {},
   "outputs": [
    {
     "data": {
      "text/plain": [
       "'eri'"
      ]
     },
     "execution_count": 38,
     "metadata": {},
     "output_type": "execute_result"
    }
   ],
   "source": [
    "\"eric\"[:3]"
   ]
  },
  {
   "cell_type": "code",
   "execution_count": 39,
   "id": "85355c26",
   "metadata": {},
   "outputs": [
    {
     "data": {
      "text/plain": [
       "'eric'"
      ]
     },
     "execution_count": 39,
     "metadata": {},
     "output_type": "execute_result"
    }
   ],
   "source": [
    "\"eric\"[:4]"
   ]
  },
  {
   "cell_type": "code",
   "execution_count": 41,
   "id": "d4da27e8",
   "metadata": {},
   "outputs": [
    {
     "data": {
      "text/plain": [
       "'ric'"
      ]
     },
     "execution_count": 41,
     "metadata": {},
     "output_type": "execute_result"
    }
   ],
   "source": [
    "\"eric\"[1:]"
   ]
  },
  {
   "cell_type": "code",
   "execution_count": 42,
   "id": "0e070bf5",
   "metadata": {},
   "outputs": [
    {
     "data": {
      "text/plain": [
       "'ric'"
      ]
     },
     "execution_count": 42,
     "metadata": {},
     "output_type": "execute_result"
    }
   ],
   "source": [
    "\"eric\"[1:4]"
   ]
  },
  {
   "cell_type": "code",
   "execution_count": 43,
   "id": "3fb286f2",
   "metadata": {},
   "outputs": [
    {
     "data": {
      "text/plain": [
       "'eric'"
      ]
     },
     "execution_count": 43,
     "metadata": {},
     "output_type": "execute_result"
    }
   ],
   "source": [
    "\"eric\"[:]"
   ]
  },
  {
   "cell_type": "code",
   "execution_count": 50,
   "id": "eb049514",
   "metadata": {},
   "outputs": [
    {
     "data": {
      "text/plain": [
       "'cd'"
      ]
     },
     "execution_count": 50,
     "metadata": {},
     "output_type": "execute_result"
    }
   ],
   "source": [
    "\"abcd\"[2:]"
   ]
  },
  {
   "cell_type": "code",
   "execution_count": null,
   "id": "0f88fd98",
   "metadata": {},
   "outputs": [],
   "source": [
    " s = 'Python is Fun!'\n",
    "    "
   ]
  },
  {
   "cell_type": "code",
   "execution_count": 57,
   "id": "e050961a",
   "metadata": {},
   "outputs": [
    {
     "data": {
      "text/plain": [
       "'hello, world'"
      ]
     },
     "execution_count": 57,
     "metadata": {},
     "output_type": "execute_result"
    }
   ],
   "source": [
    "str1 = 'hello'\n",
    "str2 = ','\n",
    "str3 = 'world'\n",
    "str1 + str2 + ' ' + str3"
   ]
  },
  {
   "cell_type": "code",
   "execution_count": 58,
   "id": "c2a47fb9",
   "metadata": {},
   "outputs": [
    {
     "data": {
      "text/plain": [
       "'worldworldworld'"
      ]
     },
     "execution_count": 58,
     "metadata": {},
     "output_type": "execute_result"
    }
   ],
   "source": [
    "str3 * 3"
   ]
  },
  {
   "cell_type": "code",
   "execution_count": 66,
   "id": "5f88400a",
   "metadata": {},
   "outputs": [
    {
     "name": "stdout",
     "output_type": "stream",
     "text": [
      "hello world\n"
     ]
    }
   ],
   "source": [
    "greeting = \"hello world\"\n",
    "\n",
    "print(f'{greeting}')"
   ]
  },
  {
   "cell_type": "code",
   "execution_count": 67,
   "id": "cfb39112",
   "metadata": {},
   "outputs": [
    {
     "name": "stdout",
     "output_type": "stream",
     "text": [
      "0\n",
      "1\n",
      "2\n",
      "3\n",
      "4\n"
     ]
    }
   ],
   "source": [
    "# while loop\n",
    "n = 0\n",
    "while n < 5:\n",
    "    print(n)\n",
    "    n = n + 1"
   ]
  },
  {
   "cell_type": "code",
   "execution_count": 68,
   "id": "c981fcde",
   "metadata": {},
   "outputs": [
    {
     "name": "stdout",
     "output_type": "stream",
     "text": [
      "0\n",
      "1\n",
      "2\n",
      "3\n",
      "4\n"
     ]
    }
   ],
   "source": [
    "# for loop\n",
    "\n",
    "for n in range(5):\n",
    "    print(n)"
   ]
  },
  {
   "cell_type": "code",
   "execution_count": 69,
   "id": "8aec2ebb",
   "metadata": {},
   "outputs": [
    {
     "name": "stdout",
     "output_type": "stream",
     "text": [
      "24\n"
     ]
    }
   ],
   "source": [
    "mysum = 0\n",
    "for i in range(7,10):\n",
    "    mysum += i\n",
    "    \n",
    "print(mysum)"
   ]
  },
  {
   "cell_type": "code",
   "execution_count": null,
   "id": "487657a9",
   "metadata": {},
   "outputs": [],
   "source": []
  },
  {
   "cell_type": "code",
   "execution_count": 70,
   "id": "eb9431cc",
   "metadata": {},
   "outputs": [
    {
     "name": "stdout",
     "output_type": "stream",
     "text": [
      "5\n"
     ]
    }
   ],
   "source": [
    "# break statement\n",
    "mysum = 0\n",
    "\n",
    "for i in range(5,11,2):\n",
    "    mysum +=i\n",
    "    if mysum == 5:\n",
    "        break\n",
    "print(mysum)"
   ]
  },
  {
   "cell_type": "code",
   "execution_count": 73,
   "id": "6ac4d095",
   "metadata": {},
   "outputs": [
    {
     "data": {
      "text/plain": [
       "<function print>"
      ]
     },
     "execution_count": 73,
     "metadata": {},
     "output_type": "execute_result"
    }
   ],
   "source": []
  },
  {
   "cell_type": "code",
   "execution_count": null,
   "id": "643e062f",
   "metadata": {},
   "outputs": [],
   "source": []
  },
  {
   "cell_type": "code",
   "execution_count": 74,
   "id": "524177ce",
   "metadata": {},
   "outputs": [
    {
     "name": "stdout",
     "output_type": "stream",
     "text": [
      "hello world\n"
     ]
    }
   ],
   "source": [
    "happy = 5\n",
    "while happy > 2:\n",
    "    print('hello world')\n",
    "    break"
   ]
  },
  {
   "cell_type": "code",
   "execution_count": null,
   "id": "3f05d829",
   "metadata": {},
   "outputs": [],
   "source": []
  },
  {
   "cell_type": "code",
   "execution_count": 76,
   "id": "8dcfd3e5",
   "metadata": {},
   "outputs": [],
   "source": [
    "happy = 0\n",
    "while happy > 2:\n",
    "    print('hello world')\n",
    "    happy = happy+1\n",
    "    break"
   ]
  },
  {
   "cell_type": "code",
   "execution_count": null,
   "id": "1a407c03",
   "metadata": {},
   "outputs": [],
   "source": []
  },
  {
   "cell_type": "code",
   "execution_count": 97,
   "id": "9ad1ddc5",
   "metadata": {},
   "outputs": [
    {
     "name": "stdout",
     "output_type": "stream",
     "text": [
      "2\n",
      "4\n",
      "6\n",
      "8\n",
      "10\n",
      "Goodbye!\n"
     ]
    }
   ],
   "source": [
    "n = 0\n",
    "while n < 10:\n",
    "    n = n+2\n",
    "    print(n)\n",
    "    if n == 10:\n",
    "        break\n",
    "print(\"Goodbye!\")       \n",
    " "
   ]
  },
  {
   "cell_type": "code",
   "execution_count": 99,
   "id": "6979f304",
   "metadata": {},
   "outputs": [
    {
     "name": "stdout",
     "output_type": "stream",
     "text": [
      "Hello!\n",
      "10\n",
      "8\n",
      "6\n",
      "4\n",
      "2\n"
     ]
    }
   ],
   "source": [
    "n = 12\n",
    "\n",
    "print(\"Hello!\")\n",
    "while n > 2:\n",
    "    n = n-2\n",
    "    print(n)\n",
    "    if n == 2:\n",
    "        break\n",
    "       "
   ]
  },
  {
   "cell_type": "code",
   "execution_count": null,
   "id": "9515fb02",
   "metadata": {},
   "outputs": [],
   "source": []
  },
  {
   "cell_type": "code",
   "execution_count": 3,
   "id": "0f36dba9",
   "metadata": {},
   "outputs": [
    {
     "name": "stdout",
     "output_type": "stream",
     "text": [
      "21\n"
     ]
    }
   ],
   "source": [
    "n = 1\n",
    "mysum = 0\n",
    "\n",
    "while n <= 6:\n",
    "    mysum += n\n",
    "    if mysum == 21:  # Corrected to check for the sum of 21\n",
    "        break\n",
    "    n += 1\n",
    "\n",
    "print(mysum)\n"
   ]
  },
  {
   "cell_type": "code",
   "execution_count": null,
   "id": "4098a51a",
   "metadata": {},
   "outputs": [],
   "source": []
  },
  {
   "cell_type": "code",
   "execution_count": 6,
   "id": "15065379",
   "metadata": {},
   "outputs": [
    {
     "name": "stdout",
     "output_type": "stream",
     "text": [
      "21\n"
     ]
    }
   ],
   "source": [
    "n = 1\n",
    "mysum = 0\n",
    "while n <= 6:\n",
    "    mysum = mysum + n\n",
    "    n = n + 1\n",
    "print(mysum)"
   ]
  },
  {
   "cell_type": "code",
   "execution_count": 11,
   "id": "c15de677",
   "metadata": {},
   "outputs": [
    {
     "name": "stdout",
     "output_type": "stream",
     "text": [
      "2\n",
      "4\n",
      "6\n",
      "8\n",
      "10\n",
      "Goodbye!\n"
     ]
    }
   ],
   "source": [
    "for n in range(0,11,2):\n",
    "    n = n+2\n",
    "    print(n)\n",
    "    if n == 10:\n",
    "        break\n",
    "print(\"Goodbye!\")  "
   ]
  },
  {
   "cell_type": "code",
   "execution_count": null,
   "id": "ce594bf7",
   "metadata": {},
   "outputs": [],
   "source": []
  },
  {
   "cell_type": "code",
   "execution_count": 30,
   "id": "a5f48e2f",
   "metadata": {},
   "outputs": [
    {
     "name": "stdout",
     "output_type": "stream",
     "text": [
      "Hello!\n",
      "10\n",
      "8\n",
      "6\n",
      "4\n",
      "2\n"
     ]
    }
   ],
   "source": [
    "print(\"Hello!\")\n",
    "\n",
    "n = 10\n",
    "for i in range(0,12,2):\n",
    "    i = n-i\n",
    "    print(i)\n",
    "    if i == 2:\n",
    "        break\n",
    "   "
   ]
  },
  {
   "cell_type": "code",
   "execution_count": null,
   "id": "3da906f2",
   "metadata": {},
   "outputs": [],
   "source": []
  },
  {
   "cell_type": "code",
   "execution_count": 32,
   "id": "3f9848ed",
   "metadata": {},
   "outputs": [
    {
     "name": "stdout",
     "output_type": "stream",
     "text": [
      "21\n"
     ]
    }
   ],
   "source": [
    "mysum = 0\n",
    "\n",
    "for n in range(6+1):\n",
    "    mysum = mysum + n\n",
    "    n = n+1\n",
    "\n",
    "print(mysum)"
   ]
  },
  {
   "cell_type": "code",
   "execution_count": null,
   "id": "470612a8",
   "metadata": {},
   "outputs": [],
   "source": []
  },
  {
   "cell_type": "code",
   "execution_count": 40,
   "id": "62e62bd9",
   "metadata": {},
   "outputs": [
    {
     "name": "stdout",
     "output_type": "stream",
     "text": [
      "100\n"
     ]
    }
   ],
   "source": [
    "x = 10\n",
    "square = 0\n",
    "counter = x\n",
    "\n",
    "while counter != 0:\n",
    "    square = square + x\n",
    "    counter = counter -1\n",
    "print (square)    "
   ]
  },
  {
   "cell_type": "code",
   "execution_count": null,
   "id": "1afe6835",
   "metadata": {},
   "outputs": [],
   "source": []
  },
  {
   "cell_type": "code",
   "execution_count": 44,
   "id": "2ff6c59a",
   "metadata": {},
   "outputs": [
    {
     "name": "stdout",
     "output_type": "stream",
     "text": [
      "0\n",
      "1\n",
      "2\n",
      "3\n",
      "4\n",
      "4\n"
     ]
    }
   ],
   "source": [
    "for num in range(5):\n",
    "    print(num)\n",
    "print(num)\n"
   ]
  },
  {
   "cell_type": "code",
   "execution_count": null,
   "id": "fb4e4936",
   "metadata": {},
   "outputs": [],
   "source": []
  },
  {
   "cell_type": "code",
   "execution_count": 45,
   "id": "62d004bf",
   "metadata": {},
   "outputs": [
    {
     "name": "stdout",
     "output_type": "stream",
     "text": [
      "0.0\n",
      "1.0\n",
      "2.0\n",
      "3.0\n",
      "4.0\n"
     ]
    }
   ],
   "source": [
    "divisor = 2\n",
    "for num in range(0, 10, 2):\n",
    "    print(num/divisor) "
   ]
  },
  {
   "cell_type": "code",
   "execution_count": 49,
   "id": "f99a12a7",
   "metadata": {},
   "outputs": [
    {
     "name": "stdout",
     "output_type": "stream",
     "text": [
      "0\n",
      "Foo!\n",
      "4\n",
      "8\n",
      "12\n",
      "16\n",
      "Foo!\n"
     ]
    }
   ],
   "source": [
    "for variable in range(20):\n",
    "    if variable % 4 == 0:\n",
    "        print(variable)\n",
    "    if variable % 16 == 0:\n",
    "        print('Foo!') "
   ]
  },
  {
   "cell_type": "code",
   "execution_count": 50,
   "id": "abc6b6c5",
   "metadata": {},
   "outputs": [
    {
     "name": "stdout",
     "output_type": "stream",
     "text": [
      "h\n",
      "o\n",
      "l\n",
      "a\n"
     ]
    }
   ],
   "source": [
    "for letter in 'hola':\n",
    "    print(letter)  "
   ]
  },
  {
   "cell_type": "code",
   "execution_count": 60,
   "id": "ccc4a96e",
   "metadata": {},
   "outputs": [
    {
     "name": "stdout",
     "output_type": "stream",
     "text": [
      "Letter # 0 is S\n",
      "1\n"
     ]
    }
   ],
   "source": [
    "count = 0\n",
    "for letter in 'Snow!':\n",
    "    print('Letter # ' + str(count) + ' is ' + str(letter))\n",
    "    count += 1\n",
    "    break\n",
    "print(count)"
   ]
  },
  {
   "cell_type": "code",
   "execution_count": 61,
   "id": "da8e694b",
   "metadata": {
    "scrolled": false
   },
   "outputs": [
    {
     "name": "stdout",
     "output_type": "stream",
     "text": [
      "0\n",
      "1\n",
      "2\n",
      "3\n",
      "4\n",
      "5\n",
      "6\n",
      "7\n",
      "8\n",
      "9\n",
      "10\n",
      "11\n",
      "12\n",
      "13\n",
      "14\n",
      "15\n",
      "16\n",
      "17\n",
      "18\n",
      "19\n"
     ]
    }
   ],
   "source": [
    "for n in range (20):\n",
    "    print(n)"
   ]
  },
  {
   "cell_type": "code",
   "execution_count": 65,
   "id": "cd3636d1",
   "metadata": {},
   "outputs": [
    {
     "name": "stdout",
     "output_type": "stream",
     "text": [
      "0\n",
      "Foo!\n",
      "4\n",
      "8\n",
      "12\n",
      "16\n",
      "Foo!\n"
     ]
    }
   ],
   "source": [
    "for variable in range(20):\n",
    "    if variable % 4 == 0:\n",
    "        print(variable)\n",
    "    if variable % 16 == 0:\n",
    "        print('Foo!') "
   ]
  },
  {
   "cell_type": "code",
   "execution_count": null,
   "id": "a1a12572",
   "metadata": {},
   "outputs": [],
   "source": []
  },
  {
   "cell_type": "code",
   "execution_count": 66,
   "id": "b0aa28a8",
   "metadata": {},
   "outputs": [
    {
     "name": "stdout",
     "output_type": "stream",
     "text": [
      "Letter # 0 is S\n",
      "1\n"
     ]
    }
   ],
   "source": [
    "count = 0\n",
    "for letter in 'Snow!':\n",
    "    print('Letter # ' + str(count) + ' is ' + str(letter))\n",
    "    count += 1\n",
    "    break\n",
    "print(count)"
   ]
  },
  {
   "cell_type": "code",
   "execution_count": null,
   "id": "6ab807e7",
   "metadata": {},
   "outputs": [],
   "source": []
  },
  {
   "cell_type": "code",
   "execution_count": 67,
   "id": "3592e10d",
   "metadata": {},
   "outputs": [
    {
     "name": "stdout",
     "output_type": "stream",
     "text": [
      "0\n",
      "1\n",
      "2\n",
      "3\n",
      "4\n",
      "4\n"
     ]
    }
   ],
   "source": [
    "num = 10\n",
    "for num in range(5):\n",
    "    print(num)\n",
    "print(num)"
   ]
  },
  {
   "cell_type": "code",
   "execution_count": null,
   "id": "92a47a7d",
   "metadata": {},
   "outputs": [],
   "source": []
  },
  {
   "cell_type": "code",
   "execution_count": null,
   "id": "45547b2c",
   "metadata": {},
   "outputs": [],
   "source": []
  },
  {
   "cell_type": "code",
   "execution_count": 68,
   "id": "b328ced2",
   "metadata": {},
   "outputs": [
    {
     "name": "stdout",
     "output_type": "stream",
     "text": [
      "6\n",
      ".\n",
      "0\n",
      "0\n",
      "x\n",
      "done\n"
     ]
    }
   ],
   "source": [
    "myStr = '6.00x'\n",
    "\n",
    "for char in myStr:\n",
    "    print(char)\n",
    "\n",
    "print('done')"
   ]
  },
  {
   "cell_type": "code",
   "execution_count": null,
   "id": "a5c58a80",
   "metadata": {},
   "outputs": [],
   "source": []
  },
  {
   "cell_type": "code",
   "execution_count": 69,
   "id": "1b99891b",
   "metadata": {},
   "outputs": [
    {
     "name": "stdout",
     "output_type": "stream",
     "text": [
      "H\n",
      "e\n",
      "e\n",
      "l\n",
      "l\n",
      "l\n",
      "o\n",
      "!\n",
      "!\n",
      "done\n"
     ]
    }
   ],
   "source": [
    "greeting = 'Hello!'\n",
    "count = 0\n",
    "\n",
    "for letter in greeting:\n",
    "    count += 1\n",
    "    if count % 2 == 0:\n",
    "        print(letter)\n",
    "    print(letter)\n",
    "\n",
    "print('done')"
   ]
  },
  {
   "cell_type": "code",
   "execution_count": null,
   "id": "11ec9b6d",
   "metadata": {},
   "outputs": [],
   "source": []
  },
  {
   "cell_type": "code",
   "execution_count": 75,
   "id": "4d0e8ff3",
   "metadata": {},
   "outputs": [
    {
     "name": "stdout",
     "output_type": "stream",
     "text": [
      "5\n"
     ]
    }
   ],
   "source": [
    "my_sum = 0\n",
    "\n",
    "\n",
    "for char in 'azcbobobegghakl':\n",
    "    if char in \"aeiou\":\n",
    "        my_sum += 1\n",
    "\n",
    "print(my_sum)\n",
    "\n",
    "    "
   ]
  },
  {
   "cell_type": "code",
   "execution_count": 76,
   "id": "20355774",
   "metadata": {},
   "outputs": [
    {
     "name": "stdout",
     "output_type": "stream",
     "text": [
      "5\n"
     ]
    }
   ],
   "source": [
    "my_sum = 0\n",
    "\n",
    "for char in 'azcbobobegghakl':\n",
    "    if char in \"aeiou\":\n",
    "        my_sum += 1\n",
    "\n",
    "print(my_sum)\n"
   ]
  },
  {
   "cell_type": "code",
   "execution_count": null,
   "id": "bae28945",
   "metadata": {},
   "outputs": [],
   "source": []
  },
  {
   "cell_type": "code",
   "execution_count": 88,
   "id": "d1a66c4c",
   "metadata": {},
   "outputs": [
    {
     "name": "stdout",
     "output_type": "stream",
     "text": [
      "2\n"
     ]
    }
   ],
   "source": [
    "mysum = 0\n",
    "for i in range(len(s)):\n",
    "    if s[i:i+3] ==\"bob\":\n",
    "        mysum += 1\n",
    "     \n",
    "\n",
    "print(mysum)"
   ]
  },
  {
   "cell_type": "code",
   "execution_count": null,
   "id": "51ab99d9",
   "metadata": {},
   "outputs": [],
   "source": []
  },
  {
   "cell_type": "code",
   "execution_count": null,
   "id": "bba52158",
   "metadata": {},
   "outputs": [],
   "source": []
  },
  {
   "cell_type": "code",
   "execution_count": 89,
   "id": "26f1034c",
   "metadata": {},
   "outputs": [
    {
     "name": "stdout",
     "output_type": "stream",
     "text": [
      "Longest substring in alphabetical order is: beggh\n"
     ]
    }
   ],
   "source": [
    "s = 'azcbobobegghakl'\n",
    "\n",
    "# Initialize variables to keep track of the current substring and the longest substring\n",
    "current_substring = s[0]\n",
    "longest_substring = s[0]\n",
    "\n",
    "# Iterate through the characters in the string starting from the second character\n",
    "for char in s[1:]:\n",
    "    # Check if the current character is greater than or equal to the last character in the current substring\n",
    "    if char >= current_substring[-1]:\n",
    "        current_substring += char\n",
    "    else:\n",
    "        # If the current character is not greater, start a new substring\n",
    "        current_substring = char\n",
    "\n",
    "    # Update the longest substring if the current one is longer\n",
    "    if len(current_substring) > len(longest_substring):\n",
    "        longest_substring = current_substring\n",
    "\n",
    "# Print the result\n",
    "print(f\"Longest substring in alphabetical order is: {longest_substring}\")\n"
   ]
  },
  {
   "cell_type": "code",
   "execution_count": null,
   "id": "c5224740",
   "metadata": {},
   "outputs": [],
   "source": []
  },
  {
   "cell_type": "code",
   "execution_count": 95,
   "id": "3e3602be",
   "metadata": {},
   "outputs": [],
   "source": [
    "# strings for loop\n",
    "# type 1\n",
    "s = \"abcdefgh\"\n",
    "\n",
    "for index in range(len(s)):\n",
    "    if s[index] == 'i' or s[index] == 'u':\n",
    "        print(\"There is an i or u\")\n",
    "\n",
    "        \n"
   ]
  },
  {
   "cell_type": "code",
   "execution_count": 96,
   "id": "4f7ff1e6",
   "metadata": {},
   "outputs": [],
   "source": [
    "# type 2\n",
    "\n",
    "for char in s:\n",
    "    if char == 'i' or char == 'u':\n",
    "        print(\"There is an i or u\")"
   ]
  },
  {
   "cell_type": "code",
   "execution_count": null,
   "id": "cce8f32f",
   "metadata": {},
   "outputs": [],
   "source": []
  },
  {
   "cell_type": "code",
   "execution_count": 97,
   "id": "a6ff46b4",
   "metadata": {},
   "outputs": [
    {
     "name": "stdout",
     "output_type": "stream",
     "text": [
      "6\n",
      ".\n",
      "0\n",
      "0\n",
      "x\n",
      "done\n"
     ]
    }
   ],
   "source": [
    "myStr = '6.00x'\n",
    "\n",
    "for char in myStr:\n",
    "    print(char)\n",
    "\n",
    "print('done')"
   ]
  },
  {
   "cell_type": "code",
   "execution_count": null,
   "id": "0725fe89",
   "metadata": {},
   "outputs": [],
   "source": []
  },
  {
   "cell_type": "code",
   "execution_count": 98,
   "id": "41bdb0dd",
   "metadata": {},
   "outputs": [
    {
     "name": "stdout",
     "output_type": "stream",
     "text": [
      "H\n",
      "e\n",
      "e\n",
      "l\n",
      "l\n",
      "l\n",
      "o\n",
      "!\n",
      "!\n",
      "done\n"
     ]
    }
   ],
   "source": [
    "greeting = 'Hello!'\n",
    "count = 0\n",
    "\n",
    "for letter in greeting:\n",
    "    count += 1\n",
    "    if count % 2 == 0:\n",
    "        print(letter)\n",
    "    print(letter)\n",
    "\n",
    "print('done')"
   ]
  },
  {
   "cell_type": "code",
   "execution_count": null,
   "id": "c4d3e35d",
   "metadata": {},
   "outputs": [],
   "source": []
  },
  {
   "cell_type": "code",
   "execution_count": 100,
   "id": "abf37ba7",
   "metadata": {},
   "outputs": [
    {
     "name": "stdout",
     "output_type": "stream",
     "text": [
      "M\n",
      "numVowels is: 11\n",
      "numCons is: -25\n"
     ]
    }
   ],
   "source": [
    "school = 'Massachusetts Institute of Technology'\n",
    "numVowels = 0\n",
    "numCons = 0\n",
    "\n",
    "for char in school:\n",
    "    if char == 'a' or char == 'e' or char == 'i' \\\n",
    "       or char == 'o' or char == 'u':\n",
    "        numVowels += 1\n",
    "    elif char == 'o' or char == 'M':\n",
    "        print(char)\n",
    "    else:\n",
    "        numCons -= 1\n",
    "\n",
    "print('numVowels is: ' + str(numVowels))\n",
    "print('numCons is: ' + str(numCons)) "
   ]
  },
  {
   "cell_type": "code",
   "execution_count": null,
   "id": "0e8482ca",
   "metadata": {},
   "outputs": [],
   "source": []
  },
  {
   "cell_type": "code",
   "execution_count": 105,
   "id": "f5a82c9c",
   "metadata": {},
   "outputs": [
    {
     "name": "stdout",
     "output_type": "stream",
     "text": [
      "2\n"
     ]
    }
   ],
   "source": [
    "s = 'azcbobobegghakl'\n",
    "\n",
    "mysum = 0\n",
    "\n",
    "for char in range(len(s)-2):\n",
    "    if s[char:char+3] == \"bob\":\n",
    "        mysum += 1\n",
    "\n",
    "print(mysum)\n"
   ]
  },
  {
   "cell_type": "code",
   "execution_count": null,
   "id": "8aa161d7",
   "metadata": {},
   "outputs": [],
   "source": []
  },
  {
   "cell_type": "code",
   "execution_count": 106,
   "id": "2f65dda1",
   "metadata": {},
   "outputs": [
    {
     "name": "stdout",
     "output_type": "stream",
     "text": [
      "Please enter a sentence: azcbobobegghakl\n",
      "Longest substring in alphabetical order is:  az\n"
     ]
    }
   ],
   "source": []
  },
  {
   "cell_type": "code",
   "execution_count": null,
   "id": "453cc5e1",
   "metadata": {},
   "outputs": [],
   "source": []
  },
  {
   "cell_type": "code",
   "execution_count": 118,
   "id": "621b1d82",
   "metadata": {},
   "outputs": [
    {
     "name": "stdout",
     "output_type": "stream",
     "text": [
      "The longest substring in string s is: beggh\n"
     ]
    }
   ],
   "source": [
    "s = 'azcbobobegghakl'\n",
    "\n",
    "cur_subsrt = s[0]\n",
    "longest_sub = s[0]\n",
    "\n",
    "for i in range(1, len(s) - 1):\n",
    "    previous = s[i]\n",
    "    iteration = s[i+1]\n",
    "    \n",
    "    if iteration >= previous:\n",
    "        cur_subsrt += iteration\n",
    "        if len(cur_subsrt) > len(longest_sub):\n",
    "            longest_sub = cur_subsrt\n",
    "    else:\n",
    "        cur_subsrt = iteration\n",
    "\n",
    "print(\"The longest substring in string s is:\", longest_sub)\n"
   ]
  },
  {
   "cell_type": "code",
   "execution_count": null,
   "id": "4e77f532",
   "metadata": {},
   "outputs": [],
   "source": []
  },
  {
   "cell_type": "code",
   "execution_count": null,
   "id": "950c0e1a",
   "metadata": {},
   "outputs": [],
   "source": []
  },
  {
   "cell_type": "code",
   "execution_count": null,
   "id": "23880ff6",
   "metadata": {},
   "outputs": [],
   "source": []
  },
  {
   "cell_type": "code",
   "execution_count": null,
   "id": "6e8853fb",
   "metadata": {},
   "outputs": [],
   "source": []
  },
  {
   "cell_type": "code",
   "execution_count": 122,
   "id": "29602994",
   "metadata": {},
   "outputs": [
    {
     "name": "stdout",
     "output_type": "stream",
     "text": [
      "The longest substring in string s is: beggh\n"
     ]
    }
   ],
   "source": [
    "s = 'azcbobobegghakl'\n",
    "\n",
    "current_substr = s[0]\n",
    "longest_substr = s[0]\n",
    "\n",
    "for i in range(1, len(s) - 1):\n",
    "    iter_curr = s[i]\n",
    "    iter_next = s[i+1]\n",
    "    \n",
    "    if iter_next >= iter_curr:\n",
    "        current_substr += iter_next\n",
    "        if len(current_substr) > len(longest_substr):\n",
    "            longest_substr = current_substr\n",
    "    else:\n",
    "        current_substr = iter_next\n",
    "\n",
    "print(\"The longest substring in string s is:\", longest_substr)\n"
   ]
  },
  {
   "cell_type": "code",
   "execution_count": null,
   "id": "c5aa447b",
   "metadata": {},
   "outputs": [],
   "source": []
  },
  {
   "cell_type": "code",
   "execution_count": 123,
   "id": "1ea5b06d",
   "metadata": {},
   "outputs": [
    {
     "name": "stdout",
     "output_type": "stream",
     "text": [
      "Longest substring in alphabetical order is :  beggh\n"
     ]
    }
   ],
   "source": [
    "current_substr = s[0]\n",
    "longest_substr = s[0]\n",
    "\n",
    "for i in range(1, len(s) - 1):\n",
    "    iter_curr = s[i]\n",
    "    iter_next = s[i+1]\n",
    "    \n",
    "    if iter_next >= iter_curr:\n",
    "        current_substr += iter_next\n",
    "        if len(current_substr) > len(longest_substr):\n",
    "            longest_substr = current_substr\n",
    "    else:\n",
    "        current_substr = iter_next\n",
    "\n",
    "print(\"Longest substring in alphabetical order is : \", longest_substr)\n"
   ]
  },
  {
   "cell_type": "code",
   "execution_count": null,
   "id": "0f3499fb",
   "metadata": {},
   "outputs": [],
   "source": []
  },
  {
   "cell_type": "markdown",
   "id": "6a183ea1",
   "metadata": {},
   "source": [
    "# Break statement for for and while loop"
   ]
  },
  {
   "cell_type": "code",
   "execution_count": 5,
   "id": "fce4dac2",
   "metadata": {},
   "outputs": [
    {
     "name": "stdout",
     "output_type": "stream",
     "text": [
      "5\n"
     ]
    }
   ],
   "source": [
    "mysum = 0\n",
    "for i in range(5,11,2):\n",
    "    mysum += i\n",
    "    if mysum == 5:\n",
    "        break\n",
    "print(mysum)"
   ]
  },
  {
   "cell_type": "code",
   "execution_count": 6,
   "id": "4085c1b9",
   "metadata": {},
   "outputs": [
    {
     "name": "stdout",
     "output_type": "stream",
     "text": [
      "5\n"
     ]
    }
   ],
   "source": [
    "i = 5\n",
    "mysum = 0\n",
    "while i < 10:\n",
    "    mysum += i\n",
    "    if mysum == 5:\n",
    "        break\n",
    "    i += 2\n",
    "print(mysum)"
   ]
  },
  {
   "cell_type": "code",
   "execution_count": null,
   "id": "ba0569d3",
   "metadata": {},
   "outputs": [],
   "source": []
  },
  {
   "cell_type": "code",
   "execution_count": 7,
   "id": "6bf0e498",
   "metadata": {},
   "outputs": [
    {
     "name": "stdout",
     "output_type": "stream",
     "text": [
      "Iteration 0; count is: 12\n",
      "Iteration 1; count is: 24\n",
      "Iteration 2; count is: 36\n",
      "Iteration 3; count is: 48\n",
      "Iteration 4; count is: 60\n"
     ]
    }
   ],
   "source": [
    "iteration = 0\n",
    "count = 0\n",
    "while iteration < 5:\n",
    "    for letter in \"hello, world\":\n",
    "        count += 1\n",
    "    print(\"Iteration \" + str(iteration) + \"; count is: \" + str(count))\n",
    "    iteration += 1"
   ]
  },
  {
   "cell_type": "code",
   "execution_count": null,
   "id": "7d4979c2",
   "metadata": {},
   "outputs": [],
   "source": []
  },
  {
   "cell_type": "code",
   "execution_count": 11,
   "id": "9dd1375b",
   "metadata": {},
   "outputs": [
    {
     "name": "stdout",
     "output_type": "stream",
     "text": [
      "Iteration 0; count is: 12\n",
      "Iteration 1; count is: 24\n",
      "Iteration 2; count is: 36\n",
      "Iteration 3; count is: 48\n",
      "Iteration 4; count is: 60\n"
     ]
    }
   ],
   "source": [
    "count = 0\n",
    "phrase = \"hello, world\"\n",
    "for iteration in range(5):\n",
    "    while True:\n",
    "        count += len(phrase)\n",
    "        break\n",
    "    print(\"Iteration \" + str(iteration) + \"; count is: \" + str(count))\n",
    "\n",
    "\n"
   ]
  },
  {
   "cell_type": "markdown",
   "id": "a5c025d5",
   "metadata": {},
   "source": [
    "# problem SET one"
   ]
  },
  {
   "cell_type": "markdown",
   "id": "1bcec757",
   "metadata": {},
   "source": [
    "# problem  one \n",
    "\n",
    "Assume s is a string of lower case characters.\n",
    "Write a program that counts up the number of vowels contained in the string s. Valid vowels are: 'a', 'e', 'i', 'o', and 'u'. For example, if s = 'azcbobobegghakl', your program should print:\n",
    "\n",
    "Number of vowels: 5"
   ]
  },
  {
   "cell_type": "markdown",
   "id": "3def4ace",
   "metadata": {},
   "source": [
    "# solution with for loop"
   ]
  },
  {
   "cell_type": "code",
   "execution_count": 20,
   "id": "90bc5486",
   "metadata": {},
   "outputs": [
    {
     "name": "stdout",
     "output_type": "stream",
     "text": [
      "5\n"
     ]
    }
   ],
   "source": [
    "mysum = 0\n",
    "s = 'azcbobobegghakl'\n",
    "s_vowel = \"aeiou\"\n",
    "\n",
    "for i in range(len(s)):\n",
    "    if s[i] in s_vowel:\n",
    "        mysum +=1\n",
    "print(mysum)\n"
   ]
  },
  {
   "cell_type": "code",
   "execution_count": 22,
   "id": "e2f23d43",
   "metadata": {},
   "outputs": [
    {
     "name": "stdout",
     "output_type": "stream",
     "text": [
      "5\n"
     ]
    }
   ],
   "source": [
    "mysum = 0\n",
    "s = 'azcbobobegghakl'\n",
    "s_vowel = \"aeiou\"\n",
    "\n",
    "for char in s:\n",
    "    if char in s_vowel:\n",
    "        mysum +=1\n",
    "print(mysum)"
   ]
  },
  {
   "cell_type": "markdown",
   "id": "a4bcbe97",
   "metadata": {},
   "source": [
    "# solution with while loop"
   ]
  },
  {
   "cell_type": "code",
   "execution_count": 31,
   "id": "6524dd61",
   "metadata": {},
   "outputs": [
    {
     "name": "stdout",
     "output_type": "stream",
     "text": [
      "5\n"
     ]
    }
   ],
   "source": [
    "s = 'azcbobobegghakl'\n",
    "s_vowel = \"aeiou\"\n",
    "mysum = 0\n",
    "count = 0\n",
    "\n",
    "while count < len(s):\n",
    "    if s[count] in s_vowel:\n",
    "        mysum += 1\n",
    "    count += 1\n",
    "\n",
    "print(mysum)\n"
   ]
  },
  {
   "cell_type": "code",
   "execution_count": 33,
   "id": "e71cd7e4",
   "metadata": {},
   "outputs": [
    {
     "name": "stdout",
     "output_type": "stream",
     "text": [
      "5\n"
     ]
    }
   ],
   "source": [
    "s = 'azcbobobegghakl'\n",
    "s_vowel = \"aeiou\"\n",
    "mysum = 0\n",
    "count = 0\n",
    "\n",
    "while count < len(s):\n",
    "    char = s[count]\n",
    "    if char in s_vowel:\n",
    "        mysum +=1\n",
    "    count +=1\n",
    "print(mysum)"
   ]
  },
  {
   "cell_type": "code",
   "execution_count": null,
   "id": "7effc747",
   "metadata": {},
   "outputs": [],
   "source": []
  },
  {
   "cell_type": "markdown",
   "id": "0467516e",
   "metadata": {},
   "source": [
    "# Problem Two \n",
    "\n",
    "Assume s is a string of lower case characters.\n",
    "\n",
    "Write a program that prints the number of times the string 'bob' occurs in s. For example, if s = 'azcbobobegghakl', then your program should print\n",
    "\n",
    "Number of times bob occurs is: 2"
   ]
  },
  {
   "cell_type": "markdown",
   "id": "2782da56",
   "metadata": {},
   "source": [
    "# solution"
   ]
  },
  {
   "cell_type": "code",
   "execution_count": 34,
   "id": "c4774cbb",
   "metadata": {},
   "outputs": [
    {
     "name": "stdout",
     "output_type": "stream",
     "text": [
      "2\n"
     ]
    }
   ],
   "source": [
    "mysum = 0\n",
    "s = 'azcbobobegghakl'\n",
    "s_vowel = \"bob\"\n",
    "\n",
    "for i in range(len(s)):\n",
    "    if s[i:3+i] == s_vowel:\n",
    "        mysum +=1\n",
    "print(mysum)\n"
   ]
  },
  {
   "cell_type": "code",
   "execution_count": 36,
   "id": "9f24684a",
   "metadata": {},
   "outputs": [
    {
     "name": "stdout",
     "output_type": "stream",
     "text": [
      "2\n"
     ]
    }
   ],
   "source": [
    "mysum = 0\n",
    "s = 'azcbobobegghakl'\n",
    "s_vowel = \"bob\"\n",
    "\n",
    "for i in range(len(s) - len(s_vowel) + 1):\n",
    "    substring = s[i:i+len(s_vowel)]\n",
    "    if substring == s_vowel:\n",
    "        mysum += 1\n",
    "\n",
    "print(mysum)\n"
   ]
  },
  {
   "cell_type": "code",
   "execution_count": null,
   "id": "c4b2c0c7",
   "metadata": {},
   "outputs": [],
   "source": []
  },
  {
   "cell_type": "code",
   "execution_count": 47,
   "id": "2979a140",
   "metadata": {},
   "outputs": [
    {
     "name": "stdout",
     "output_type": "stream",
     "text": [
      "Longest substring in alphabetical order is:  a\n"
     ]
    }
   ],
   "source": [
    "s = 'azcbobobegghakl'\n",
    "current_substr = s[0]\n",
    "longest_substr = s[0]\n",
    "\n",
    "for i in range(1, 2):\n",
    "    iter_curr = s[i-1]\n",
    "    iter_next = s[i]\n",
    "    \n",
    "    if iter_next >= iter_curr:\n",
    "        current_substr += iter_next\n",
    "        if len(current_substr) > len(longest_substr):\n",
    "            longest_substr = current_substr\n",
    "    else:\n",
    "        current_substr = iter_next\n",
    "\n",
    "print(\"Longest substring in alphabetical order is: \", longest_substr)"
   ]
  },
  {
   "cell_type": "code",
   "execution_count": 48,
   "id": "a4f37dee",
   "metadata": {},
   "outputs": [
    {
     "name": "stdout",
     "output_type": "stream",
     "text": [
      "9\n"
     ]
    }
   ],
   "source": [
    "print(19//2)"
   ]
  },
  {
   "cell_type": "code",
   "execution_count": null,
   "id": "ffe25fc5",
   "metadata": {},
   "outputs": [],
   "source": []
  },
  {
   "cell_type": "markdown",
   "id": "e3d81f8b",
   "metadata": {},
   "source": [
    "# Bisection method"
   ]
  },
  {
   "cell_type": "code",
   "execution_count": 51,
   "id": "5d29128d",
   "metadata": {},
   "outputs": [
    {
     "name": "stdout",
     "output_type": "stream",
     "text": [
      "low = 1.0 high = 25 ans = 13.0\n",
      "low = 1.0 high = 13.0 ans = 7.0\n",
      "low = 1.0 high = 7.0 ans = 4.0\n",
      "low = 4.0 high = 7.0 ans = 5.5\n",
      "low = 4.0 high = 5.5 ans = 4.75\n",
      "low = 4.75 high = 5.5 ans = 5.125\n",
      "low = 4.75 high = 5.125 ans = 4.9375\n",
      "low = 4.9375 high = 5.125 ans = 5.03125\n",
      "low = 4.9375 high = 5.03125 ans = 4.984375\n",
      "low = 4.984375 high = 5.03125 ans = 5.0078125\n",
      "low = 4.984375 high = 5.0078125 ans = 4.99609375\n",
      "low = 4.99609375 high = 5.0078125 ans = 5.001953125\n",
      "numGuesses = 12\n",
      "4.9990234375 is close to square root of 25\n"
     ]
    }
   ],
   "source": [
    "x = 25\n",
    "epsilon = 0.01\n",
    "numGuesses = 0\n",
    "low = 1.0\n",
    "high = x\n",
    "ans = (high + low)/2.0\n",
    "while abs(ans**2 - x) >= epsilon:\n",
    "    print('low = ' + str(low) + ' high = ' + str(high) + ' ans = ' + str(ans))\n",
    "    numGuesses += 1\n",
    "    if ans**2 < x:\n",
    "        low = ans\n",
    "    else:\n",
    "        high = ans\n",
    "    ans = (high + low)/2.0\n",
    "print('numGuesses = ' + str(numGuesses))\n",
    "print(str(ans) + ' is close to square root of ' + str(x))"
   ]
  },
  {
   "cell_type": "code",
   "execution_count": null,
   "id": "034362ec",
   "metadata": {},
   "outputs": [],
   "source": []
  },
  {
   "cell_type": "code",
   "execution_count": null,
   "id": "2ce2cfb0",
   "metadata": {},
   "outputs": [],
   "source": [
    "# Newton-Raphson"
   ]
  },
  {
   "cell_type": "code",
   "execution_count": 55,
   "id": "91383fe3",
   "metadata": {},
   "outputs": [
    {
     "name": "stdout",
     "output_type": "stream",
     "text": [
      "numGuesses = 4\n",
      "Square root of 24.0 is about 4.8989887432139305\n"
     ]
    }
   ],
   "source": [
    "epsilon = 0.01\n",
    "y = 24.0\n",
    "guess = y/2.0\n",
    "numGuesses = 0\n",
    "\n",
    "while abs(guess*guess - y) >= epsilon:\n",
    "    numGuesses += 1\n",
    "    guess = guess - (((guess**2) - y)/(2*guess))\n",
    "\n",
    "print('numGuesses = ' + str(numGuesses))\n",
    "print('Square root of ' + str(y) + ' is about ' + str(guess))\n"
   ]
  },
  {
   "cell_type": "code",
   "execution_count": null,
   "id": "7756fd3f",
   "metadata": {},
   "outputs": [],
   "source": []
  },
  {
   "cell_type": "code",
   "execution_count": null,
   "id": "ae33ad86",
   "metadata": {},
   "outputs": [],
   "source": []
  },
  {
   "cell_type": "code",
   "execution_count": 56,
   "id": "76dee567",
   "metadata": {},
   "outputs": [
    {
     "name": "stdout",
     "output_type": "stream",
     "text": [
      "5\n",
      "6\n",
      "5\n"
     ]
    }
   ],
   "source": [
    "def g(y):\n",
    "    print(x)\n",
    "    print(x+1)\n",
    "    \n",
    "x = 5\n",
    "g(x)\n",
    "print(x)"
   ]
  },
  {
   "cell_type": "code",
   "execution_count": null,
   "id": "1e38a28a",
   "metadata": {},
   "outputs": [],
   "source": []
  },
  {
   "cell_type": "code",
   "execution_count": null,
   "id": "26e05c9e",
   "metadata": {},
   "outputs": [],
   "source": []
  },
  {
   "cell_type": "code",
   "execution_count": 60,
   "id": "cd0fcc8a",
   "metadata": {},
   "outputs": [
    {
     "name": "stdout",
     "output_type": "stream",
     "text": [
      "in g(x): x = 4\n"
     ]
    }
   ],
   "source": [
    "# Function in a function\n",
    "\n",
    "def g(x):\n",
    "    \n",
    "    def h():\n",
    "        x = \"abc\"\n",
    "    x = x + 1\n",
    "    print(\"in g(x): x =\", x)\n",
    "    h()\n",
    "    \n",
    "    return x\n",
    "x = 3\n",
    "z = g(x)"
   ]
  },
  {
   "cell_type": "code",
   "execution_count": null,
   "id": "dab32a31",
   "metadata": {},
   "outputs": [],
   "source": []
  },
  {
   "cell_type": "code",
   "execution_count": 63,
   "id": "3634653a",
   "metadata": {},
   "outputs": [
    {
     "data": {
      "text/plain": [
       "9"
      ]
     },
     "execution_count": 63,
     "metadata": {},
     "output_type": "execute_result"
    }
   ],
   "source": [
    "def a(x):\n",
    "   '''\n",
    "   x: int or float.\n",
    "   '''\n",
    "   return x + 1\n",
    "\n",
    "a(a(a(6)))"
   ]
  },
  {
   "cell_type": "code",
   "execution_count": null,
   "id": "9de34b9d",
   "metadata": {},
   "outputs": [],
   "source": []
  },
  {
   "cell_type": "code",
   "execution_count": 64,
   "id": "bca9d265",
   "metadata": {},
   "outputs": [
    {
     "data": {
      "text/plain": [
       "<function __main__.f(x, y)>"
      ]
     },
     "execution_count": 64,
     "metadata": {},
     "output_type": "execute_result"
    }
   ],
   "source": [
    "def f(x, y):\n",
    "   '''\n",
    "   x: int or float.\n",
    "   y: int or float\n",
    "   '''\n",
    "   x + y - 2\n",
    "    \n",
    "f"
   ]
  },
  {
   "cell_type": "code",
   "execution_count": 70,
   "id": "ff60dbb6",
   "metadata": {},
   "outputs": [
    {
     "data": {
      "text/plain": [
       "11"
      ]
     },
     "execution_count": 70,
     "metadata": {},
     "output_type": "execute_result"
    }
   ],
   "source": [
    "def foo(x, y = 5):\n",
    "   def bar(x):\n",
    "      return x + 1\n",
    "   return bar(y * 2)\n",
    "          \n",
    "foo(3)"
   ]
  },
  {
   "cell_type": "code",
   "execution_count": null,
   "id": "cf09dfec",
   "metadata": {},
   "outputs": [],
   "source": []
  },
  {
   "cell_type": "code",
   "execution_count": 71,
   "id": "e1596e99",
   "metadata": {},
   "outputs": [
    {
     "data": {
      "text/plain": [
       "3"
      ]
     },
     "execution_count": 71,
     "metadata": {},
     "output_type": "execute_result"
    }
   ],
   "source": [
    "def foo (x):\n",
    "   def bar (z, x = 0):\n",
    "      return z + x\n",
    "   return bar(3)\n",
    "\n",
    "foo(5)\n",
    " \n",
    "    "
   ]
  },
  {
   "cell_type": "code",
   "execution_count": 81,
   "id": "cbb9b39b",
   "metadata": {},
   "outputs": [],
   "source": [
    "  stuff  = ( [ \"iBoy\", \"iGirl\", \"iQ\", \"iC\",\"iPaid\",\"iPad\" ], )\n",
    "  for thing in stuff:\n",
    "        if thing == 'iQ':\n",
    "           print(\"Found it\")\n",
    "        \n",
    "\n"
   ]
  },
  {
   "cell_type": "code",
   "execution_count": null,
   "id": "b25932cf",
   "metadata": {},
   "outputs": [],
   "source": []
  },
  {
   "cell_type": "code",
   "execution_count": 85,
   "id": "4dd28dd6",
   "metadata": {},
   "outputs": [
    {
     "data": {
      "text/plain": [
       "10000"
      ]
     },
     "execution_count": 85,
     "metadata": {},
     "output_type": "execute_result"
    }
   ],
   "source": [
    "def Square(x):\n",
    "    return SquareHelper(abs(x), abs(x))\n",
    "\n",
    "def SquareHelper(n, x):\n",
    "    if n == 0:\n",
    "        return 0\n",
    "    return SquareHelper(n-1, x) + x\n",
    "\n",
    "x = 100\n",
    "Square(x)"
   ]
  },
  {
   "cell_type": "code",
   "execution_count": null,
   "id": "850f1240",
   "metadata": {},
   "outputs": [],
   "source": []
  },
  {
   "cell_type": "code",
   "execution_count": 87,
   "id": "072edb6d",
   "metadata": {},
   "outputs": [
    {
     "name": "stdout",
     "output_type": "stream",
     "text": [
      "2\n",
      "2\n",
      "0\n"
     ]
    }
   ],
   "source": [
    "def closest_power(base, num):\n",
    "    # Initialize variables to track closest exponent and result\n",
    "    closest_exponent = 0\n",
    "    closest_result = base ** closest_exponent\n",
    "\n",
    "    # Iterate through possible exponents\n",
    "    for exponent in range(1, num + 1):\n",
    "        current_result = base ** exponent\n",
    "\n",
    "        # Check if the current exponent is closer to num\n",
    "        if abs(current_result - num) < abs(closest_result - num):\n",
    "            closest_exponent = exponent\n",
    "            closest_result = current_result\n",
    "        # If there's a tie, choose the smaller exponent\n",
    "        elif abs(current_result - num) == abs(closest_result - num) and exponent < closest_exponent:\n",
    "            closest_exponent = exponent\n",
    "\n",
    "    return closest_exponent\n",
    "\n",
    "# Examples\n",
    "print(closest_power(3, 12))  # Output: 2\n",
    "print(closest_power(4, 12))  # Output: 2\n",
    "print(closest_power(4, 1))   # Output: 0\n"
   ]
  },
  {
   "cell_type": "code",
   "execution_count": null,
   "id": "3c006565",
   "metadata": {},
   "outputs": [],
   "source": []
  },
  {
   "cell_type": "code",
   "execution_count": 94,
   "id": "5adb61d3",
   "metadata": {},
   "outputs": [],
   "source": [
    "def closest_power(base, num):\n",
    "    '''\n",
    "    base: base of the exponential, integer > 1\n",
    "    num: number you want to be closest to, integer > 0\n",
    "    Find the integer exponent such that base**exponent is closest to num.\n",
    "    Note that the base**exponent may be either greater or smaller than num.\n",
    "    In case of a tie, return the smaller value.\n",
    "    Returns the exponent.\n",
    "    '''\n",
    "    closest_exp = 0\n",
    "    closest_value = base ** closest_exp\n",
    "    \n",
    "    for exponent in range(1, num + 1):\n",
    "        current_value = base ** exponent\n",
    "        if abs(current_value - num) < abs(closest_value - num):\n",
    "            closest_exp = exponent\n",
    "            closest_value = current_value\n",
    "        elif abs(current_value - num) == abs(closest_value - num) and exponent < closest_exp:\n",
    "            closest_exp = exponent\n",
    "\n",
    "    return closest_exp\n"
   ]
  },
  {
   "cell_type": "code",
   "execution_count": 95,
   "id": "1f159582",
   "metadata": {},
   "outputs": [
    {
     "name": "stdout",
     "output_type": "stream",
     "text": [
      "2\n",
      "2\n",
      "0\n"
     ]
    }
   ],
   "source": [
    "print(closest_power(3, 12))  # Output: 2\n",
    "print(closest_power(4, 12))  # Output: 2\n",
    "print(closest_power(4, 1))   # Output: 0"
   ]
  },
  {
   "cell_type": "code",
   "execution_count": null,
   "id": "2d60234d",
   "metadata": {},
   "outputs": [],
   "source": []
  },
  {
   "cell_type": "code",
   "execution_count": 96,
   "id": "ebcef87b",
   "metadata": {},
   "outputs": [
    {
     "data": {
      "text/plain": [
       "7"
      ]
     },
     "execution_count": 96,
     "metadata": {},
     "output_type": "execute_result"
    }
   ],
   "source": [
    "def closest_power(base, num):\n",
    "    '''\n",
    "    base: base of the exponential, integer > 1\n",
    "    num: number you want to be closest to, integer > 0\n",
    "    Find the integer exponent such that base**exponent is closest to num.\n",
    "    Note that the base**exponent may be either greater or smaller than num.\n",
    "    In case of a tie, return the smaller value.\n",
    "    Returns the exponent.\n",
    "    '''\n",
    "    tolerance = 1e-10  # Define a small tolerance for floating-point comparison\n",
    "    closest_exp = 0\n",
    "    closest_value = base ** closest_exp\n",
    "    \n",
    "    for exponent in range(1, int(num) + 1):\n",
    "        current_value = base ** exponent\n",
    "        if abs(current_value - num) < abs(closest_value - num) or abs(current_value - num) < tolerance:\n",
    "            closest_exp = exponent\n",
    "            closest_value = current_value\n",
    "        elif abs(current_value - num) == abs(closest_value - num) and exponent < closest_exp:\n",
    "            closest_exp = exponent\n",
    "\n",
    "    return closest_exp\n",
    "closest_power(2, 192.0)"
   ]
  },
  {
   "cell_type": "code",
   "execution_count": 97,
   "id": "ab03108a",
   "metadata": {},
   "outputs": [
    {
     "name": "stdout",
     "output_type": "stream",
     "text": [
      "['cat', 'dog']\n"
     ]
    }
   ],
   "source": [
    "def lessThan4(aList):\n",
    "    '''\n",
    "    aList: a list of strings\n",
    "    '''\n",
    "    sub_list = []\n",
    "    \n",
    "    for word in aList:\n",
    "        if len(word) < 4:\n",
    "            sub_list.append(word)\n",
    "    \n",
    "    return sub_list\n",
    "\n",
    "# Example usage:\n",
    "aList = [\"apple\", \"cat\", \"dog\", \"banana\"]\n",
    "result = lessThan4(aList)\n",
    "print(result)\n"
   ]
  },
  {
   "cell_type": "code",
   "execution_count": null,
   "id": "ab6bf88a",
   "metadata": {},
   "outputs": [],
   "source": []
  },
  {
   "cell_type": "code",
   "execution_count": null,
   "id": "e9981794",
   "metadata": {},
   "outputs": [],
   "source": [
    "def keysWithValue(aDict, target):\n",
    "    \n",
    "    '''\n",
    "    aDict: a dictionary\n",
    "    target: an integer\n",
    "    '''\n",
    "    result = []\n",
    "    for key, value in sorted(aDict.items()):\n",
    "        if value == target:\n",
    "            result.append(key)\n",
    "    return result\n"
   ]
  },
  {
   "cell_type": "code",
   "execution_count": null,
   "id": "86b26eed",
   "metadata": {},
   "outputs": [],
   "source": []
  },
  {
   "cell_type": "markdown",
   "id": "ac5e81f1",
   "metadata": {},
   "source": [
    "# Recursion\n",
    "to multiply a and b = a+a+....a ( b times) = a*b\n",
    "\n",
    "example 5*3 = 5+5+5 (added 5 3 times)"
   ]
  },
  {
   "cell_type": "code",
   "execution_count": 4,
   "id": "47f8542f",
   "metadata": {},
   "outputs": [
    {
     "name": "stdout",
     "output_type": "stream",
     "text": [
      "200\n"
     ]
    }
   ],
   "source": [
    "def mult_iter(a,b):\n",
    "    result = 0\n",
    "    while b > 0:\n",
    "        result = a+result\n",
    "        b = b-1\n",
    "    return result\n",
    "\n",
    "print(mult_iter(2,100))"
   ]
  },
  {
   "cell_type": "markdown",
   "id": "b6b9eb0b",
   "metadata": {},
   "source": [
    "# similarly: \n",
    "\n",
    "            a*b = a+a*(b-1)\n",
    "                = a + a + a*(b-2)\n",
    "                = a + a + a + a*(b-3)\n",
    "                \n",
    "            if b = 1, a * b = 1\n",
    "                "
   ]
  },
  {
   "cell_type": "code",
   "execution_count": 8,
   "id": "a52d8210",
   "metadata": {},
   "outputs": [
    {
     "name": "stdout",
     "output_type": "stream",
     "text": [
      "100\n"
     ]
    }
   ],
   "source": [
    "def mult_a_b (a,b):\n",
    "    \n",
    "    if b == 1:\n",
    "        result = a\n",
    "    else:\n",
    "        result = a + mult_iter(a,b-1)\n",
    "    return result\n",
    "\n",
    "print(mult_a_b(10,10))"
   ]
  },
  {
   "cell_type": "code",
   "execution_count": null,
   "id": "f9922877",
   "metadata": {},
   "outputs": [],
   "source": []
  },
  {
   "cell_type": "markdown",
   "id": "afa06918",
   "metadata": {},
   "source": [
    "#  Factorial !\n",
    "\n",
    "n! = n*(n-1)*(n-2)*----*1"
   ]
  },
  {
   "cell_type": "code",
   "execution_count": 32,
   "id": "c3dad8b1",
   "metadata": {},
   "outputs": [
    {
     "name": "stdout",
     "output_type": "stream",
     "text": [
      "120\n"
     ]
    }
   ],
   "source": [
    "def num_factorial(a):\n",
    "    \n",
    "    result = 1\n",
    "    while a > 1:\n",
    "        result *= a\n",
    "        a -= 1\n",
    "    return result\n",
    "\n",
    "print(num_factorial(5))\n"
   ]
  },
  {
   "cell_type": "code",
   "execution_count": 35,
   "id": "92a82466",
   "metadata": {},
   "outputs": [
    {
     "name": "stdout",
     "output_type": "stream",
     "text": [
      "120\n"
     ]
    }
   ],
   "source": [
    "def func(a):\n",
    "    \n",
    "    if a == 0 or a == 1:\n",
    "        return 1\n",
    "    else:\n",
    "        \n",
    "        return a * func(a-1)\n",
    "\n",
    "\n",
    "print(func(5))\n"
   ]
  },
  {
   "cell_type": "code",
   "execution_count": null,
   "id": "41c737a9",
   "metadata": {},
   "outputs": [],
   "source": []
  },
  {
   "cell_type": "code",
   "execution_count": 34,
   "id": "d1707101",
   "metadata": {},
   "outputs": [
    {
     "name": "stdout",
     "output_type": "stream",
     "text": [
      "120\n"
     ]
    }
   ],
   "source": [
    "def fact(n):\n",
    "    if n == 1:\n",
    "        return 1\n",
    "    else:\n",
    "        return n*fact(n-1)\n",
    "    \n",
    "print(fact(5))"
   ]
  },
  {
   "cell_type": "code",
   "execution_count": null,
   "id": "94f7ef3a",
   "metadata": {},
   "outputs": [],
   "source": []
  },
  {
   "cell_type": "markdown",
   "id": "03ea4a76",
   "metadata": {},
   "source": [
    "# Fibonacci sequence\n",
    "0,1,1,2,3,..."
   ]
  },
  {
   "cell_type": "code",
   "execution_count": 42,
   "id": "97cfcfab",
   "metadata": {},
   "outputs": [
    {
     "name": "stdout",
     "output_type": "stream",
     "text": [
      "34\n"
     ]
    }
   ],
   "source": [
    "def fibona(num):\n",
    "    if num <= 1:\n",
    "        return num\n",
    "    else:\n",
    "        return fibona(num-1) + fibona(num-2)\n",
    "    \n",
    "print(fibona(9))"
   ]
  },
  {
   "cell_type": "code",
   "execution_count": null,
   "id": "7447820d",
   "metadata": {},
   "outputs": [],
   "source": []
  },
  {
   "cell_type": "code",
   "execution_count": 47,
   "id": "3c99d5bd",
   "metadata": {},
   "outputs": [
    {
     "name": "stdout",
     "output_type": "stream",
     "text": [
      "27\n"
     ]
    }
   ],
   "source": [
    "def iterPower(base, exp):\n",
    "    '''\n",
    "    base: int or float.\n",
    "    exp: int >= 0\n",
    " \n",
    "    returns: int or float, base^exp\n",
    "    '''\n",
    "    result = 1\n",
    "    while exp >= 1:\n",
    "        result = result*base\n",
    "        exp = exp -1\n",
    "    return result\n",
    "\n",
    "print(iterPower(3,3))"
   ]
  },
  {
   "cell_type": "code",
   "execution_count": 69,
   "id": "5cfbf0c2",
   "metadata": {},
   "outputs": [
    {
     "data": {
      "text/plain": [
       "<function str.upper()>"
      ]
     },
     "execution_count": 69,
     "metadata": {},
     "output_type": "execute_result"
    }
   ],
   "source": [
    "str1 = 'exterminate!' \n",
    "# print(str1.upper())\n",
    "str1.upper"
   ]
  },
  {
   "cell_type": "code",
   "execution_count": 67,
   "id": "f3ef9439",
   "metadata": {},
   "outputs": [
    {
     "name": "stdout",
     "output_type": "stream",
     "text": [
      "Number one - the larch\n",
      "0\n"
     ]
    },
    {
     "data": {
      "text/plain": [
       "'number seven - the larch'"
      ]
     },
     "execution_count": 67,
     "metadata": {},
     "output_type": "execute_result"
    }
   ],
   "source": [
    "str2 = 'number one - the larch'\n",
    "print(str2.capitalize())\n",
    "print(str2.find(\"n\"))\n",
    "str2.replace('one', 'seven')"
   ]
  },
  {
   "cell_type": "code",
   "execution_count": null,
   "id": "e41a6f91",
   "metadata": {},
   "outputs": [],
   "source": []
  },
  {
   "cell_type": "code",
   "execution_count": 64,
   "id": "6082158a",
   "metadata": {},
   "outputs": [
    {
     "name": "stdout",
     "output_type": "stream",
     "text": [
      "3\n"
     ]
    }
   ],
   "source": [
    "str = \"exterminate!\"\n",
    "print(str.count(\"e\"))"
   ]
  },
  {
   "cell_type": "code",
   "execution_count": 65,
   "id": "233bfaeb",
   "metadata": {},
   "outputs": [
    {
     "name": "stdout",
     "output_type": "stream",
     "text": [
      "*xampl*\n"
     ]
    }
   ],
   "source": [
    "str1 = \"example\"\n",
    "str1 = str1.replace('e', '*')\n",
    "print(str1)\n"
   ]
  },
  {
   "cell_type": "code",
   "execution_count": null,
   "id": "df01594d",
   "metadata": {},
   "outputs": [],
   "source": []
  },
  {
   "cell_type": "code",
   "execution_count": 73,
   "id": "6a0d89a6",
   "metadata": {},
   "outputs": [
    {
     "name": "stdout",
     "output_type": "stream",
     "text": [
      "EXTERMINATE!\n"
     ]
    }
   ],
   "source": [
    "str1 = 'exterminate!' \n",
    "print(str1.swapcase())"
   ]
  },
  {
   "cell_type": "code",
   "execution_count": null,
   "id": "89bf0dd3",
   "metadata": {},
   "outputs": [],
   "source": []
  },
  {
   "cell_type": "code",
   "execution_count": 72,
   "id": "7779eabf",
   "metadata": {},
   "outputs": [
    {
     "data": {
      "text/plain": [
       "0"
      ]
     },
     "execution_count": 72,
     "metadata": {},
     "output_type": "execute_result"
    }
   ],
   "source": [
    "str2 = 'number one - the larch'\n",
    "str2.find('n')"
   ]
  },
  {
   "cell_type": "code",
   "execution_count": 78,
   "id": "806b3686",
   "metadata": {},
   "outputs": [
    {
     "data": {
      "text/plain": [
       "'nUMBER ONE - THE LARCH'"
      ]
     },
     "execution_count": 78,
     "metadata": {},
     "output_type": "execute_result"
    }
   ],
   "source": [
    "str2 = 'Number one - the larch'\n",
    "str2.swapcase()\n"
   ]
  },
  {
   "cell_type": "code",
   "execution_count": 79,
   "id": "62138eae",
   "metadata": {},
   "outputs": [
    {
     "data": {
      "text/plain": [
       "8"
      ]
     },
     "execution_count": 79,
     "metadata": {},
     "output_type": "execute_result"
    }
   ],
   "source": [
    "str2.index('n')"
   ]
  },
  {
   "cell_type": "code",
   "execution_count": null,
   "id": "4d7a78bc",
   "metadata": {},
   "outputs": [],
   "source": []
  },
  {
   "cell_type": "code",
   "execution_count": null,
   "id": "43cc92b6",
   "metadata": {},
   "outputs": [],
   "source": []
  },
  {
   "cell_type": "code",
   "execution_count": null,
   "id": "e6248236",
   "metadata": {},
   "outputs": [],
   "source": []
  },
  {
   "cell_type": "code",
   "execution_count": null,
   "id": "0d41577b",
   "metadata": {},
   "outputs": [],
   "source": []
  },
  {
   "cell_type": "code",
   "execution_count": null,
   "id": "f0964893",
   "metadata": {},
   "outputs": [],
   "source": []
  },
  {
   "cell_type": "code",
   "execution_count": null,
   "id": "00d47672",
   "metadata": {},
   "outputs": [],
   "source": []
  },
  {
   "cell_type": "code",
   "execution_count": null,
   "id": "2395ea9d",
   "metadata": {},
   "outputs": [],
   "source": []
  }
 ],
 "metadata": {
  "kernelspec": {
   "display_name": "Python 3 (ipykernel)",
   "language": "python",
   "name": "python3"
  },
  "language_info": {
   "codemirror_mode": {
    "name": "ipython",
    "version": 3
   },
   "file_extension": ".py",
   "mimetype": "text/x-python",
   "name": "python",
   "nbconvert_exporter": "python",
   "pygments_lexer": "ipython3",
   "version": "3.10.12"
  }
 },
 "nbformat": 4,
 "nbformat_minor": 5
}

{
 "cells": [
  {
   "cell_type": "code",
   "execution_count": 3,
   "id": "46eccaa4",
   "metadata": {},
   "outputs": [
    {
     "name": "stdout",
     "output_type": "stream",
     "text": [
      "Enter name: Richard\n",
      "Enter name: Sottie\n"
     ]
    }
   ],
   "source": [
    "nameHandle = open('kids', 'w')\n",
    "\n",
    "for i in range(2):\n",
    "    \n",
    "    name = input ('Enter name: ')\n",
    "    \n",
    "    nameHandle.write(name + '\\n')\n",
    "                     \n",
    "nameHandle.close()\n",
    "                     \n",
    "                     \n"
   ]
  }
 ],
 "metadata": {
  "kernelspec": {
   "display_name": "Python 3 (ipykernel)",
   "language": "python",
   "name": "python3"
  },
  "language_info": {
   "codemirror_mode": {
    "name": "ipython",
    "version": 3
   },
   "file_extension": ".py",
   "mimetype": "text/x-python",
   "name": "python",
   "nbconvert_exporter": "python",
   "pygments_lexer": "ipython3",
   "version": "3.10.12"
  }
 },
 "nbformat": 4,
 "nbformat_minor": 5
}

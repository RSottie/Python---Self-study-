{
 "cells": [
  {
   "cell_type": "markdown",
   "id": "323592fe",
   "metadata": {},
   "source": [
    "# KERAS "
   ]
  },
  {
   "cell_type": "markdown",
   "id": "6aba7a16",
   "metadata": {},
   "source": [
    "keras.datasets.fashion_mnist refers to a module and function in the Keras library for loading the Fashion MNIST dataset.\n",
    "\n",
    "Here's a breakdown:\n",
    "\n",
    "Keras: Keras is a high-level neural networks API, written in Python and capable of running on top of TensorFlow, among other deep learning frameworks. It allows for easy and fast prototyping of neural networks.\n",
    "Datasets: Within Keras, datasets is a submodule that provides functions for loading various standard datasets for machine learning and deep learning tasks.\n",
    "Fashion MNIST: Fashion MNIST is a dataset commonly used for image classification tasks. It consists of 70,000 grayscale images of fashion items, such as clothes, shoes, and accessories, belonging to 10 different categories. Each image is a 28x28 grayscale image, and the dataset is split into a training set of 60,000 images and a test set of 10,000 images.\n",
    "\n",
    "When you call keras.datasets.fashion_mnist, you're accessing the function to load the Fashion MNIST dataset. This function returns the training and test sets split into input images and their corresponding labels.\n"
   ]
  },
  {
   "cell_type": "markdown",
   "id": "de09d0b3",
   "metadata": {},
   "source": [
    "In summary, the training set is used to train the model, while the test set is used to evaluate its performance and generalization ability. It's important to keep the training and test sets separate to ensure an unbiased assessment of the model's performance."
   ]
  },
  {
   "cell_type": "markdown",
   "id": "1fa667a2",
   "metadata": {},
   "source": [
    "# The Sequential API"
   ]
  },
  {
   "cell_type": "markdown",
   "id": "44a5baa0",
   "metadata": {},
   "source": [
    "The Sequential API is a fundamental part of Keras, a high-level neural networks API written in Python and capable of running on top of TensorFlow, Theano, or Microsoft Cognitive Toolkit (CNTK). The Sequential API allows you to create and define deep learning models by stacking layers one after another in a linear manner.\n",
    "\n",
    "Here are some key points about the Sequential API:\n",
    "\n",
    "Linear Stack of Layers: The Sequential model is a linear stack of layers. You can create a Sequential model and add layers to it one by one. Each layer in the model flows sequentially from input to output.\n",
    "\n",
    "Simple and Intuitive: The Sequential API is simple and intuitive, making it easy to create basic neural network architectures, especially for beginners or for building straightforward models.\n",
    "Limited Flexibility: While the Sequential API is powerful for building simple feedforward neural networks, it has limitations in terms of flexibility. It's not suitable for creating models with multiple inputs, multiple outputs, shared layers, or models with complex architectures like residual connections or skip connections."
   ]
  },
  {
   "cell_type": "markdown",
   "id": "64154425",
   "metadata": {},
   "source": [
    "# Dense layer"
   ]
  },
  {
   "cell_type": "markdown",
   "id": "d058dfd8",
   "metadata": {},
   "source": [
    "A Dense layer, also known as a fully connected layer, is one of the fundamental building blocks of a neural network. It is called \"dense\" because every neuron in the layer is connected to every neuron in the preceding layer. \n",
    "\n",
    "Here's what you need to know about Dense layers:\n",
    "\n",
    "1. **Connections**: In a Dense layer, each neuron receives input from every neuron in the previous layer. This means that all neurons in a Dense layer are fully connected to the neurons in the preceding layer.\n",
    "\n",
    "2. **Parameters**: Each connection between neurons in adjacent layers has a corresponding weight parameter, which the neural network learns during the training process. Additionally, each neuron in the Dense layer has a bias parameter.\n",
    "\n",
    "3. **Activation Function**: The output of each neuron in a Dense layer is typically passed through an activation function, which introduces non-linearity into the network. Common activation functions include ReLU (Rectified Linear Unit), sigmoid, tanh (hyperbolic tangent), and softmax.\n",
    "\n",
    "4. **Output Shape**: The number of neurons in the Dense layer determines the dimensionality of the output space. For example, if a Dense layer has 64 neurons, the output will be a vector of size 64.\n",
    "\n",
    "5. **Example Usage**:\n",
    "   ```python\n",
    "   from tensorflow.keras.layers import Dense\n",
    "   \n",
    "   # Creating a Dense layer with 64 neurons and ReLU activation function\n",
    "   dense_layer = Dense(64, activation='relu')\n",
    "   ```\n",
    "\n",
    "   In this example, we create a Dense layer with 64 neurons and specify the ReLU activation function. This layer can be added to a neural network model to introduce non-linearity and increase the model's capacity to learn complex patterns in the data.\n",
    "\n",
    "Dense layers are commonly used in various types of neural network architectures, including feedforward neural networks, convolutional neural networks (CNNs), and recurrent neural networks (RNNs). They play a crucial role in enabling the network to learn from input data and make predictions."
   ]
  },
  {
   "cell_type": "code",
   "execution_count": null,
   "id": "f555c26f",
   "metadata": {},
   "outputs": [],
   "source": []
  },
  {
   "cell_type": "code",
   "execution_count": null,
   "id": "f7ec3042",
   "metadata": {},
   "outputs": [],
   "source": []
  },
  {
   "cell_type": "code",
   "execution_count": null,
   "id": "1bc93191",
   "metadata": {},
   "outputs": [],
   "source": []
  }
 ],
 "metadata": {
  "kernelspec": {
   "display_name": "Python 3 (ipykernel)",
   "language": "python",
   "name": "python3"
  },
  "language_info": {
   "codemirror_mode": {
    "name": "ipython",
    "version": 3
   },
   "file_extension": ".py",
   "mimetype": "text/x-python",
   "name": "python",
   "nbconvert_exporter": "python",
   "pygments_lexer": "ipython3",
   "version": "3.10.12"
  }
 },
 "nbformat": 4,
 "nbformat_minor": 5
}
